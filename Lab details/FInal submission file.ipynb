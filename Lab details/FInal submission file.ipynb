{
  "nbformat": 4,
  "nbformat_minor": 0,
  "metadata": {
    "colab": {
      "name": "...ipynb",
      "provenance": []
    },
    "kernelspec": {
      "name": "python3",
      "display_name": "Python 3"
    },
    "language_info": {
      "name": "python"
    },
    "accelerator": "GPU"
  },
  "cells": [
    {
      "cell_type": "code",
      "source": [
        "from google.colab import drive\n",
        "drive.mount('/content/drive')\n",
        "import pandas as pd\n",
        "import numpy as np\n",
        "import seaborn as sns\n",
        "import matplotlib.pyplot as plt\n",
        "from sklearn.model_selection import train_test_split, GridSearchCV, KFold\n",
        "from sklearn.linear_model import LogisticRegression\n",
        "from sklearn.preprocessing import LabelEncoder, MinMaxScaler, OrdinalEncoder\n",
        "from sklearn.metrics import classification_report, confusion_matrix, f1_score, accuracy_score\n",
        "from sklearn.svm import SVC\n",
        "from sklearn.ensemble import VotingClassifier\n",
        "import tensorflow as tf\n",
        "from keras.models import Sequential \n",
        "from keras.layers import Dense, Dropout\n",
        "from sklearn.ensemble import RandomForestClassifier"
      ],
      "metadata": {
        "id": "Kq6bU5zoAk0f",
        "colab": {
          "base_uri": "https://localhost:8080/"
        },
        "outputId": "56b05f65-69e0-407f-8d94-06f4a7c11dc3"
      },
      "execution_count": null,
      "outputs": [
        {
          "output_type": "stream",
          "name": "stdout",
          "text": [
            "Drive already mounted at /content/drive; to attempt to forcibly remount, call drive.mount(\"/content/drive\", force_remount=True).\n"
          ]
        }
      ]
    },
    {
      "cell_type": "code",
      "source": [
        "x_sub = pd.read_csv('/content/drive/MyDrive/x_test.csv')\n",
        "data =  pd.read_csv('/content/drive/MyDrive/aug_train.csv')"
      ],
      "metadata": {
        "id": "j3yGG1NlQHCH"
      },
      "execution_count": null,
      "outputs": []
    },
    {
      "cell_type": "code",
      "execution_count": null,
      "metadata": {
        "id": "hZGRvKvM_xrt"
      },
      "outputs": [],
      "source": [
        "x = pd.read_csv('/content/drive/MyDrive/x_train.csv')\n",
        "y = pd.read_csv('/content/drive/MyDrive/y_train.csv')"
      ]
    },
    {
      "cell_type": "code",
      "source": [
        "x.head()"
      ],
      "metadata": {
        "colab": {
          "base_uri": "https://localhost:8080/",
          "height": 339
        },
        "id": "5gCHk2eQAhXS",
        "outputId": "41b35a25-1d4a-47b8-a90a-20cdf0c3a5ac"
      },
      "execution_count": null,
      "outputs": [
        {
          "output_type": "execute_result",
          "data": {
            "text/plain": [
              "   index      city  city_development_index gender      relevent_experience  \\\n",
              "0  17007   city_61                   0.913   Male  Has relevent experience   \n",
              "1    631   city_94                   0.698   Male  Has relevent experience   \n",
              "2    669  city_114                   0.926    NaN  Has relevent experience   \n",
              "3   8949  city_114                   0.926   Male   No relevent experience   \n",
              "4   2341   city_16                   0.910    NaN  Has relevent experience   \n",
              "\n",
              "  enrolled_university education_level major_discipline experience  \\\n",
              "0       no_enrollment         Masters             STEM          4   \n",
              "1                 NaN     High School              NaN          3   \n",
              "2    Full time course         Masters             STEM          9   \n",
              "3    Full time course        Graduate             STEM         14   \n",
              "4       no_enrollment        Graduate             STEM          1   \n",
              "\n",
              "  company_size company_type last_new_job  training_hours  \n",
              "0      100-500          NGO            1              22  \n",
              "1          NaN          NaN            1              22  \n",
              "2        50-99      Pvt Ltd            1              88  \n",
              "3          NaN          NaN            4              91  \n",
              "4    5000-9999      Pvt Ltd            1              92  "
            ],
            "text/html": [
              "\n",
              "  <div id=\"df-fdd998d4-f290-4fc6-93e1-3e42690aadbd\">\n",
              "    <div class=\"colab-df-container\">\n",
              "      <div>\n",
              "<style scoped>\n",
              "    .dataframe tbody tr th:only-of-type {\n",
              "        vertical-align: middle;\n",
              "    }\n",
              "\n",
              "    .dataframe tbody tr th {\n",
              "        vertical-align: top;\n",
              "    }\n",
              "\n",
              "    .dataframe thead th {\n",
              "        text-align: right;\n",
              "    }\n",
              "</style>\n",
              "<table border=\"1\" class=\"dataframe\">\n",
              "  <thead>\n",
              "    <tr style=\"text-align: right;\">\n",
              "      <th></th>\n",
              "      <th>index</th>\n",
              "      <th>city</th>\n",
              "      <th>city_development_index</th>\n",
              "      <th>gender</th>\n",
              "      <th>relevent_experience</th>\n",
              "      <th>enrolled_university</th>\n",
              "      <th>education_level</th>\n",
              "      <th>major_discipline</th>\n",
              "      <th>experience</th>\n",
              "      <th>company_size</th>\n",
              "      <th>company_type</th>\n",
              "      <th>last_new_job</th>\n",
              "      <th>training_hours</th>\n",
              "    </tr>\n",
              "  </thead>\n",
              "  <tbody>\n",
              "    <tr>\n",
              "      <th>0</th>\n",
              "      <td>17007</td>\n",
              "      <td>city_61</td>\n",
              "      <td>0.913</td>\n",
              "      <td>Male</td>\n",
              "      <td>Has relevent experience</td>\n",
              "      <td>no_enrollment</td>\n",
              "      <td>Masters</td>\n",
              "      <td>STEM</td>\n",
              "      <td>4</td>\n",
              "      <td>100-500</td>\n",
              "      <td>NGO</td>\n",
              "      <td>1</td>\n",
              "      <td>22</td>\n",
              "    </tr>\n",
              "    <tr>\n",
              "      <th>1</th>\n",
              "      <td>631</td>\n",
              "      <td>city_94</td>\n",
              "      <td>0.698</td>\n",
              "      <td>Male</td>\n",
              "      <td>Has relevent experience</td>\n",
              "      <td>NaN</td>\n",
              "      <td>High School</td>\n",
              "      <td>NaN</td>\n",
              "      <td>3</td>\n",
              "      <td>NaN</td>\n",
              "      <td>NaN</td>\n",
              "      <td>1</td>\n",
              "      <td>22</td>\n",
              "    </tr>\n",
              "    <tr>\n",
              "      <th>2</th>\n",
              "      <td>669</td>\n",
              "      <td>city_114</td>\n",
              "      <td>0.926</td>\n",
              "      <td>NaN</td>\n",
              "      <td>Has relevent experience</td>\n",
              "      <td>Full time course</td>\n",
              "      <td>Masters</td>\n",
              "      <td>STEM</td>\n",
              "      <td>9</td>\n",
              "      <td>50-99</td>\n",
              "      <td>Pvt Ltd</td>\n",
              "      <td>1</td>\n",
              "      <td>88</td>\n",
              "    </tr>\n",
              "    <tr>\n",
              "      <th>3</th>\n",
              "      <td>8949</td>\n",
              "      <td>city_114</td>\n",
              "      <td>0.926</td>\n",
              "      <td>Male</td>\n",
              "      <td>No relevent experience</td>\n",
              "      <td>Full time course</td>\n",
              "      <td>Graduate</td>\n",
              "      <td>STEM</td>\n",
              "      <td>14</td>\n",
              "      <td>NaN</td>\n",
              "      <td>NaN</td>\n",
              "      <td>4</td>\n",
              "      <td>91</td>\n",
              "    </tr>\n",
              "    <tr>\n",
              "      <th>4</th>\n",
              "      <td>2341</td>\n",
              "      <td>city_16</td>\n",
              "      <td>0.910</td>\n",
              "      <td>NaN</td>\n",
              "      <td>Has relevent experience</td>\n",
              "      <td>no_enrollment</td>\n",
              "      <td>Graduate</td>\n",
              "      <td>STEM</td>\n",
              "      <td>1</td>\n",
              "      <td>5000-9999</td>\n",
              "      <td>Pvt Ltd</td>\n",
              "      <td>1</td>\n",
              "      <td>92</td>\n",
              "    </tr>\n",
              "  </tbody>\n",
              "</table>\n",
              "</div>\n",
              "      <button class=\"colab-df-convert\" onclick=\"convertToInteractive('df-fdd998d4-f290-4fc6-93e1-3e42690aadbd')\"\n",
              "              title=\"Convert this dataframe to an interactive table.\"\n",
              "              style=\"display:none;\">\n",
              "        \n",
              "  <svg xmlns=\"http://www.w3.org/2000/svg\" height=\"24px\"viewBox=\"0 0 24 24\"\n",
              "       width=\"24px\">\n",
              "    <path d=\"M0 0h24v24H0V0z\" fill=\"none\"/>\n",
              "    <path d=\"M18.56 5.44l.94 2.06.94-2.06 2.06-.94-2.06-.94-.94-2.06-.94 2.06-2.06.94zm-11 1L8.5 8.5l.94-2.06 2.06-.94-2.06-.94L8.5 2.5l-.94 2.06-2.06.94zm10 10l.94 2.06.94-2.06 2.06-.94-2.06-.94-.94-2.06-.94 2.06-2.06.94z\"/><path d=\"M17.41 7.96l-1.37-1.37c-.4-.4-.92-.59-1.43-.59-.52 0-1.04.2-1.43.59L10.3 9.45l-7.72 7.72c-.78.78-.78 2.05 0 2.83L4 21.41c.39.39.9.59 1.41.59.51 0 1.02-.2 1.41-.59l7.78-7.78 2.81-2.81c.8-.78.8-2.07 0-2.86zM5.41 20L4 18.59l7.72-7.72 1.47 1.35L5.41 20z\"/>\n",
              "  </svg>\n",
              "      </button>\n",
              "      \n",
              "  <style>\n",
              "    .colab-df-container {\n",
              "      display:flex;\n",
              "      flex-wrap:wrap;\n",
              "      gap: 12px;\n",
              "    }\n",
              "\n",
              "    .colab-df-convert {\n",
              "      background-color: #E8F0FE;\n",
              "      border: none;\n",
              "      border-radius: 50%;\n",
              "      cursor: pointer;\n",
              "      display: none;\n",
              "      fill: #1967D2;\n",
              "      height: 32px;\n",
              "      padding: 0 0 0 0;\n",
              "      width: 32px;\n",
              "    }\n",
              "\n",
              "    .colab-df-convert:hover {\n",
              "      background-color: #E2EBFA;\n",
              "      box-shadow: 0px 1px 2px rgba(60, 64, 67, 0.3), 0px 1px 3px 1px rgba(60, 64, 67, 0.15);\n",
              "      fill: #174EA6;\n",
              "    }\n",
              "\n",
              "    [theme=dark] .colab-df-convert {\n",
              "      background-color: #3B4455;\n",
              "      fill: #D2E3FC;\n",
              "    }\n",
              "\n",
              "    [theme=dark] .colab-df-convert:hover {\n",
              "      background-color: #434B5C;\n",
              "      box-shadow: 0px 1px 3px 1px rgba(0, 0, 0, 0.15);\n",
              "      filter: drop-shadow(0px 1px 2px rgba(0, 0, 0, 0.3));\n",
              "      fill: #FFFFFF;\n",
              "    }\n",
              "  </style>\n",
              "\n",
              "      <script>\n",
              "        const buttonEl =\n",
              "          document.querySelector('#df-fdd998d4-f290-4fc6-93e1-3e42690aadbd button.colab-df-convert');\n",
              "        buttonEl.style.display =\n",
              "          google.colab.kernel.accessAllowed ? 'block' : 'none';\n",
              "\n",
              "        async function convertToInteractive(key) {\n",
              "          const element = document.querySelector('#df-fdd998d4-f290-4fc6-93e1-3e42690aadbd');\n",
              "          const dataTable =\n",
              "            await google.colab.kernel.invokeFunction('convertToInteractive',\n",
              "                                                     [key], {});\n",
              "          if (!dataTable) return;\n",
              "\n",
              "          const docLinkHtml = 'Like what you see? Visit the ' +\n",
              "            '<a target=\"_blank\" href=https://colab.research.google.com/notebooks/data_table.ipynb>data table notebook</a>'\n",
              "            + ' to learn more about interactive tables.';\n",
              "          element.innerHTML = '';\n",
              "          dataTable['output_type'] = 'display_data';\n",
              "          await google.colab.output.renderOutput(dataTable, element);\n",
              "          const docLink = document.createElement('div');\n",
              "          docLink.innerHTML = docLinkHtml;\n",
              "          element.appendChild(docLink);\n",
              "        }\n",
              "      </script>\n",
              "    </div>\n",
              "  </div>\n",
              "  "
            ]
          },
          "metadata": {},
          "execution_count": 440
        }
      ]
    },
    {
      "cell_type": "code",
      "source": [
        "x.gender.fillna('Unknown',inplace=True)\n",
        "#x.gender.fillna(x.gender.mode()[0],inplace=True)"
      ],
      "metadata": {
        "id": "pY1TabCs4V0s"
      },
      "execution_count": null,
      "outputs": []
    },
    {
      "cell_type": "code",
      "source": [
        "## Experience column\n",
        "x.experience.fillna(x.experience.mode()[0],inplace=True)\n",
        "x.experience.replace('>20',25,inplace=True)\n",
        "x.experience.replace('<1',0,inplace=True)\n",
        "x.experience.fillna(0,inplace=True)\n",
        "#x.experience.dropna(inplace=True)\n",
        "\n",
        "x.experience = x.experience.astype('int')\n"
      ],
      "metadata": {
        "id": "OEnnMnIvAxVJ"
      },
      "execution_count": null,
      "outputs": []
    },
    {
      "cell_type": "code",
      "source": [
        "## Last New Job Column\n",
        "#x.last_new_job.fillna(x.last_new_job.mode()[0],inplace=True)\n",
        "x.last_new_job.replace('>4',5,inplace=True)\n",
        "x.last_new_job.replace('never',0,inplace=True)\n",
        "x.last_new_job.fillna(0,inplace=True)\n",
        "#x.last_new_job.dropna(inplace=True)\n",
        "\n",
        "x.last_new_job = x.last_new_job.astype('int')"
      ],
      "metadata": {
        "id": "xZKCGs2SA8v_"
      },
      "execution_count": null,
      "outputs": []
    },
    {
      "cell_type": "code",
      "source": [
        "## company_size\n",
        "x.company_size.replace('10/49',30,inplace=True)\n",
        "\n",
        "x.company_size.replace('10-49',30,inplace=True)\n",
        "x.company_size.replace('<10',30,inplace=True)\n",
        "x.company_size.replace('50-99',100,inplace=True)\n",
        "x.company_size.replace('100-500',100,inplace=True)\n",
        "x.company_size.replace('500-999',1000,inplace=True)\n",
        "x.company_size.replace('1000-4999',1000,inplace=True)\n",
        "x.company_size.replace('5000-9999',10000,inplace=True)\n",
        "x.company_size.replace('10000+',10000,inplace=True)\n",
        "\n",
        "x.company_size.fillna(0,inplace=True)\n",
        "#x.company_size.fillna(x.company_size.mode()[0],inplace=True)\n",
        "x.company_size = x.company_size.astype('int')"
      ],
      "metadata": {
        "id": "87ifPeQqBYKD"
      },
      "execution_count": null,
      "outputs": []
    },
    {
      "cell_type": "code",
      "source": [
        "x.isna().sum()"
      ],
      "metadata": {
        "colab": {
          "base_uri": "https://localhost:8080/"
        },
        "id": "9XnBePVlUlL5",
        "outputId": "d31be310-0198-4799-9601-a81ff004ab6f"
      },
      "execution_count": null,
      "outputs": [
        {
          "output_type": "execute_result",
          "data": {
            "text/plain": [
              "index                        0\n",
              "city                         0\n",
              "city_development_index       0\n",
              "gender                       0\n",
              "relevent_experience          0\n",
              "enrolled_university        292\n",
              "education_level            338\n",
              "major_discipline          2089\n",
              "experience                   0\n",
              "company_size                 0\n",
              "company_type              4598\n",
              "last_new_job                 0\n",
              "training_hours               0\n",
              "dtype: int64"
            ]
          },
          "metadata": {},
          "execution_count": 445
        }
      ]
    },
    {
      "cell_type": "code",
      "source": [
        "x.fillna('Unknown',inplace=True)\n",
        "#col = ['enrolled_university','education_level','major_discipline']\n",
        "#for i in col:\n",
        "#  x[i].fillna(x[i].mode()[0],inplace=True)\n"
      ],
      "metadata": {
        "id": "5OiGMF-04eBa"
      },
      "execution_count": null,
      "outputs": []
    },
    {
      "cell_type": "code",
      "source": [
        "cat = {\"Phd\":5, \"Masters\":4,\"Graduate\":3,\"High School\":2,\"Primary School\":1,\"Unknown\":0}\n",
        "#cat = {\"Phd\":4, \"Masters\":3,\"Graduate\":2,\"High School\":1,\"Primary School\":0}\n",
        "x.education_level.replace(cat,inplace=True)\n",
        "x.education_level = x.education_level.astype('int')\n",
        "\n",
        "re = {\"Has relevent experience\":1,\"No relevent experience\":0}\n",
        "x.relevent_experience.replace(re,inplace=True)\n",
        "x.relevent_experience = x.relevent_experience.astype(\"int\")\n",
        "\n",
        "gen = {\"Male\":3,\"Female\":2,\"Other\":1,\"Unknown\":0}\n",
        "x.gender.replace(gen,inplace=True)\n",
        "x.gender = x.gender.astype(\"int\")\n",
        "\n",
        "en = {\"Full time course\":3,\"Part time course\":2,\"no_enrollment\":1,\"Unknown\":0}\n",
        "x.enrolled_university.replace(en,inplace=True)\n",
        "x.enrolled_university = x.enrolled_university.astype(\"int\")"
      ],
      "metadata": {
        "id": "ys1WpqoffJ0D"
      },
      "execution_count": null,
      "outputs": []
    },
    {
      "cell_type": "code",
      "source": [
        "sns.boxplot(x=x['training_hours'])"
      ],
      "metadata": {
        "colab": {
          "base_uri": "https://localhost:8080/",
          "height": 298
        },
        "id": "rFTh3EwXNugl",
        "outputId": "57682aef-ff46-46a6-8550-f41b32adb7d1"
      },
      "execution_count": null,
      "outputs": [
        {
          "output_type": "execute_result",
          "data": {
            "text/plain": [
              "<matplotlib.axes._subplots.AxesSubplot at 0x7f9ce4a8d090>"
            ]
          },
          "metadata": {},
          "execution_count": 158
        },
        {
          "output_type": "display_data",
          "data": {
            "text/plain": [
              "<Figure size 432x288 with 1 Axes>"
            ],
            "image/png": "[encoded data removed]"
          },
          "metadata": {
            "needs_background": "light"
          }
        }
      ]
    },
    {
      "cell_type": "code",
      "source": [
        "x.loc[x['training_hours'] > 180,'training_hours'] = x.training_hours.median()"
      ],
      "metadata": {
        "id": "PR3vc3SsOY1g"
      },
      "execution_count": null,
      "outputs": []
    },
    {
      "cell_type": "code",
      "source": [
        "x.drop(['index','city'],axis=1,inplace=True)"
      ],
      "metadata": {
        "id": "EtAlnHcoCtwz"
      },
      "execution_count": null,
      "outputs": []
    },
    {
      "cell_type": "code",
      "source": [
        "converted_list_1 = []\n",
        "for i in range(len(x[\"city\"])):\n",
        "  j = x[\"city\"][i].replace(\"city_\",\"\")\n",
        "  converted_list_1.append(j)\n",
        "  \n",
        "x['city'] = converted_list_1\n",
        "\n",
        "x.city = x.city.astype('int')"
      ],
      "metadata": {
        "id": "MmFvqVu365CT"
      },
      "execution_count": null,
      "outputs": []
    },
    {
      "cell_type": "code",
      "source": [
        "x = pd.get_dummies(x)"
      ],
      "metadata": {
        "id": "PuaXjDMSc9gg"
      },
      "execution_count": null,
      "outputs": []
    },
    {
      "cell_type": "code",
      "source": [
        "x.shape"
      ],
      "metadata": {
        "colab": {
          "base_uri": "https://localhost:8080/"
        },
        "id": "RvBq7Ol7IQ0b",
        "outputId": "09229ecc-c63a-4fd0-bfcb-c6eea722b15d"
      },
      "execution_count": null,
      "outputs": [
        {
          "output_type": "execute_result",
          "data": {
            "text/plain": [
              "(14368, 23)"
            ]
          },
          "metadata": {},
          "execution_count": 453
        }
      ]
    },
    {
      "cell_type": "code",
      "source": [
        "df = pd.merge(x,y,how='inner',on='index')"
      ],
      "metadata": {
        "id": "vMZbo239vIjp",
        "colab": {
          "base_uri": "https://localhost:8080/",
          "height": 310
        },
        "outputId": "c45e14c8-4d44-49f7-b599-06480ffc2340"
      },
      "execution_count": null,
      "outputs": [
        {
          "output_type": "error",
          "ename": "KeyError",
          "evalue": "ignored",
          "traceback": [
            "\u001b[0;31m---------------------------------------------------------------------------\u001b[0m",
            "\u001b[0;31mKeyError\u001b[0m                                  Traceback (most recent call last)",
            "\u001b[0;32m<ipython-input-454-9084a2733633>\u001b[0m in \u001b[0;36m<module>\u001b[0;34m()\u001b[0m\n\u001b[0;32m----> 1\u001b[0;31m \u001b[0mdf\u001b[0m \u001b[0;34m=\u001b[0m \u001b[0mpd\u001b[0m\u001b[0;34m.\u001b[0m\u001b[0mmerge\u001b[0m\u001b[0;34m(\u001b[0m\u001b[0mx\u001b[0m\u001b[0;34m,\u001b[0m\u001b[0my\u001b[0m\u001b[0;34m,\u001b[0m\u001b[0mhow\u001b[0m\u001b[0;34m=\u001b[0m\u001b[0;34m'inner'\u001b[0m\u001b[0;34m,\u001b[0m\u001b[0mon\u001b[0m\u001b[0;34m=\u001b[0m\u001b[0;34m'index'\u001b[0m\u001b[0;34m)\u001b[0m\u001b[0;34m\u001b[0m\u001b[0;34m\u001b[0m\u001b[0m\n\u001b[0m",
            "\u001b[0;32m/usr/local/lib/python3.7/dist-packages/pandas/core/reshape/merge.py\u001b[0m in \u001b[0;36mmerge\u001b[0;34m(left, right, how, on, left_on, right_on, left_index, right_index, sort, suffixes, copy, indicator, validate)\u001b[0m\n\u001b[1;32m    117\u001b[0m         \u001b[0mcopy\u001b[0m\u001b[0;34m=\u001b[0m\u001b[0mcopy\u001b[0m\u001b[0;34m,\u001b[0m\u001b[0;34m\u001b[0m\u001b[0;34m\u001b[0m\u001b[0m\n\u001b[1;32m    118\u001b[0m         \u001b[0mindicator\u001b[0m\u001b[0;34m=\u001b[0m\u001b[0mindicator\u001b[0m\u001b[0;34m,\u001b[0m\u001b[0;34m\u001b[0m\u001b[0;34m\u001b[0m\u001b[0m\n\u001b[0;32m--> 119\u001b[0;31m         \u001b[0mvalidate\u001b[0m\u001b[0;34m=\u001b[0m\u001b[0mvalidate\u001b[0m\u001b[0;34m,\u001b[0m\u001b[0;34m\u001b[0m\u001b[0;34m\u001b[0m\u001b[0m\n\u001b[0m\u001b[1;32m    120\u001b[0m     )\n\u001b[1;32m    121\u001b[0m     \u001b[0;32mreturn\u001b[0m \u001b[0mop\u001b[0m\u001b[0;34m.\u001b[0m\u001b[0mget_result\u001b[0m\u001b[0;34m(\u001b[0m\u001b[0;34m)\u001b[0m\u001b[0;34m\u001b[0m\u001b[0;34m\u001b[0m\u001b[0m\n",
            "\u001b[0;32m/usr/local/lib/python3.7/dist-packages/pandas/core/reshape/merge.py\u001b[0m in \u001b[0;36m__init__\u001b[0;34m(self, left, right, how, on, left_on, right_on, axis, left_index, right_index, sort, suffixes, copy, indicator, validate)\u001b[0m\n\u001b[1;32m    697\u001b[0m             \u001b[0mself\u001b[0m\u001b[0;34m.\u001b[0m\u001b[0mright_join_keys\u001b[0m\u001b[0;34m,\u001b[0m\u001b[0;34m\u001b[0m\u001b[0;34m\u001b[0m\u001b[0m\n\u001b[1;32m    698\u001b[0m             \u001b[0mself\u001b[0m\u001b[0;34m.\u001b[0m\u001b[0mjoin_names\u001b[0m\u001b[0;34m,\u001b[0m\u001b[0;34m\u001b[0m\u001b[0;34m\u001b[0m\u001b[0m\n\u001b[0;32m--> 699\u001b[0;31m         ) = self._get_merge_keys()\n\u001b[0m\u001b[1;32m    700\u001b[0m \u001b[0;34m\u001b[0m\u001b[0m\n\u001b[1;32m    701\u001b[0m         \u001b[0;31m# validate the merge keys dtypes. We may need to coerce\u001b[0m\u001b[0;34m\u001b[0m\u001b[0;34m\u001b[0m\u001b[0;34m\u001b[0m\u001b[0m\n",
            "\u001b[0;32m/usr/local/lib/python3.7/dist-packages/pandas/core/reshape/merge.py\u001b[0m in \u001b[0;36m_get_merge_keys\u001b[0;34m(self)\u001b[0m\n\u001b[1;32m   1107\u001b[0m                         \u001b[0mright_keys\u001b[0m\u001b[0;34m.\u001b[0m\u001b[0mappend\u001b[0m\u001b[0;34m(\u001b[0m\u001b[0mrk\u001b[0m\u001b[0;34m)\u001b[0m\u001b[0;34m\u001b[0m\u001b[0;34m\u001b[0m\u001b[0m\n\u001b[1;32m   1108\u001b[0m                     \u001b[0;32mif\u001b[0m \u001b[0mlk\u001b[0m \u001b[0;32mis\u001b[0m \u001b[0;32mnot\u001b[0m \u001b[0;32mNone\u001b[0m\u001b[0;34m:\u001b[0m\u001b[0;34m\u001b[0m\u001b[0;34m\u001b[0m\u001b[0m\n\u001b[0;32m-> 1109\u001b[0;31m                         \u001b[0mleft_keys\u001b[0m\u001b[0;34m.\u001b[0m\u001b[0mappend\u001b[0m\u001b[0;34m(\u001b[0m\u001b[0mleft\u001b[0m\u001b[0;34m.\u001b[0m\u001b[0m_get_label_or_level_values\u001b[0m\u001b[0;34m(\u001b[0m\u001b[0mlk\u001b[0m\u001b[0;34m)\u001b[0m\u001b[0;34m)\u001b[0m\u001b[0;34m\u001b[0m\u001b[0;34m\u001b[0m\u001b[0m\n\u001b[0m\u001b[1;32m   1110\u001b[0m                         \u001b[0mjoin_names\u001b[0m\u001b[0;34m.\u001b[0m\u001b[0mappend\u001b[0m\u001b[0;34m(\u001b[0m\u001b[0mlk\u001b[0m\u001b[0;34m)\u001b[0m\u001b[0;34m\u001b[0m\u001b[0;34m\u001b[0m\u001b[0m\n\u001b[1;32m   1111\u001b[0m                     \u001b[0;32melse\u001b[0m\u001b[0;34m:\u001b[0m\u001b[0;34m\u001b[0m\u001b[0;34m\u001b[0m\u001b[0m\n",
            "\u001b[0;32m/usr/local/lib/python3.7/dist-packages/pandas/core/generic.py\u001b[0m in \u001b[0;36m_get_label_or_level_values\u001b[0;34m(self, key, axis)\u001b[0m\n\u001b[1;32m   1777\u001b[0m             \u001b[0mvalues\u001b[0m \u001b[0;34m=\u001b[0m \u001b[0mself\u001b[0m\u001b[0;34m.\u001b[0m\u001b[0maxes\u001b[0m\u001b[0;34m[\u001b[0m\u001b[0maxis\u001b[0m\u001b[0;34m]\u001b[0m\u001b[0;34m.\u001b[0m\u001b[0mget_level_values\u001b[0m\u001b[0;34m(\u001b[0m\u001b[0mkey\u001b[0m\u001b[0;34m)\u001b[0m\u001b[0;34m.\u001b[0m\u001b[0m_values\u001b[0m\u001b[0;34m\u001b[0m\u001b[0;34m\u001b[0m\u001b[0m\n\u001b[1;32m   1778\u001b[0m         \u001b[0;32melse\u001b[0m\u001b[0;34m:\u001b[0m\u001b[0;34m\u001b[0m\u001b[0;34m\u001b[0m\u001b[0m\n\u001b[0;32m-> 1779\u001b[0;31m             \u001b[0;32mraise\u001b[0m \u001b[0mKeyError\u001b[0m\u001b[0;34m(\u001b[0m\u001b[0mkey\u001b[0m\u001b[0;34m)\u001b[0m\u001b[0;34m\u001b[0m\u001b[0;34m\u001b[0m\u001b[0m\n\u001b[0m\u001b[1;32m   1780\u001b[0m \u001b[0;34m\u001b[0m\u001b[0m\n\u001b[1;32m   1781\u001b[0m         \u001b[0;31m# Check for duplicates\u001b[0m\u001b[0;34m\u001b[0m\u001b[0;34m\u001b[0m\u001b[0;34m\u001b[0m\u001b[0m\n",
            "\u001b[0;31mKeyError\u001b[0m: 'index'"
          ]
        }
      ]
    },
    {
      "cell_type": "code",
      "source": [
        "majority_samples = df[df.target == 0].index\n",
        "\n",
        "minority_samples = df[df.target == 1].index\n",
        "\n",
        "random = np.random.choice(majority_samples,len(df[df.target==1]),replace=False)\n",
        "print(len(random))\n",
        "\n",
        "undersample = np.concatenate([minority_samples,random])\n",
        "\n",
        "x = df.loc[undersample]\n",
        "\n",
        "x.drop('index',inplace=True,axis=1)\n",
        "X1= x.drop('target',axis=1)\n",
        "Y1 = x['target']"
      ],
      "metadata": {
        "colab": {
          "base_uri": "https://localhost:8080/"
        },
        "id": "qtvUzoVSv27B",
        "outputId": "4d73cf09-fd39-4c1d-c93c-841e36a9b305"
      },
      "execution_count": null,
      "outputs": [
        {
          "output_type": "stream",
          "name": "stdout",
          "text": [
            "3563\n"
          ]
        }
      ]
    },
    {
      "cell_type": "code",
      "source": [
        "### deal with inbalance data\n",
        "\n",
        "from imblearn.over_sampling import SMOTE, RandomOverSampler\n",
        "from imblearn.under_sampling import RandomUnderSampler, NearMiss\n",
        "smt = SMOTE(random_state=47)\n",
        "oversample = RandomOverSampler()\n",
        "undersample = RandomUnderSampler()\n",
        "nmiss = NearMiss(version=2, n_neighbors=5)\n",
        "X1 = x\n",
        "Y1 = y['target']\n",
        "print(X1.shape,Y1.shape)\n",
        "X1,Y1=undersample.fit_resample(X1,Y1)\n",
        "print(X1.shape,Y1.shape)"
      ],
      "metadata": {
        "colab": {
          "base_uri": "https://localhost:8080/"
        },
        "id": "fSQxs1apOGur",
        "outputId": "52dce27c-f285-4cea-ce29-dd4dc56d7baa"
      },
      "execution_count": null,
      "outputs": [
        {
          "output_type": "stream",
          "name": "stdout",
          "text": [
            "(14368, 23) (14368,)\n",
            "(7126, 23) (7126,)\n"
          ]
        }
      ]
    },
    {
      "cell_type": "code",
      "source": [
        "Y1.value_counts()"
      ],
      "metadata": {
        "colab": {
          "base_uri": "https://localhost:8080/"
        },
        "id": "3jdx-w7OnqPI",
        "outputId": "6a6d3f1a-cff3-4c77-99f6-a7806cbfa5eb"
      },
      "execution_count": null,
      "outputs": [
        {
          "output_type": "execute_result",
          "data": {
            "text/plain": [
              "0.0    3563\n",
              "1.0    3563\n",
              "Name: target, dtype: int64"
            ]
          },
          "metadata": {},
          "execution_count": 165
        }
      ]
    },
    {
      "cell_type": "markdown",
      "source": [
        "## Linear Regression"
      ],
      "metadata": {
        "id": "Z6MN5jlS2sxm"
      }
    },
    {
      "cell_type": "code",
      "source": [
        "## Regularization\n",
        "from sklearn.linear_model import Lasso, Ridge\n",
        "\n",
        "\n",
        "x_train,x_test,y_train,y_test = train_test_split(X1,Y1,test_size=0.2)\n",
        "\n",
        "y_test = y_test.values.reshape(-1, 1)\n",
        "y_train = y_train.values.reshape(-1, 1)\n",
        "\n",
        "scaler = MinMaxScaler()\n",
        "x_train = scaler.fit_transform(x_train)\n",
        "x_test = scaler.fit_transform(x_test)\n",
        "\n",
        "\n",
        "Parameters = [{\"alpha\":[1e-15, 1e-10, 1e-8, 1e-4, 1e-3,1e-2, 1, 5, 10, 20]}]\n",
        "\n",
        "ls = Lasso()\n",
        "fold = KFold(n_splits = 5,random_state=42,shuffle=True)\n",
        "model_cv = GridSearchCV(estimator=ls,param_grid=Parameters,scoring=\"neg_mean_squared_error\",cv=fold,verbose=1,return_train_score=True)\n",
        "\n",
        "model_cv.fit(x_train,y_train)\n",
        "print(model_cv.best_params_)\n",
        "\n",
        "rd = Ridge()\n",
        "fold = KFold(n_splits = 5,random_state=42,shuffle=True)\n",
        "model_cv1 = GridSearchCV(estimator=ls,param_grid=Parameters,scoring=\"neg_mean_squared_error\",cv=fold,verbose=1,return_train_score=True)\n",
        "\n",
        "model_cv1.fit(x_train,y_train)\n",
        "print(model_cv1.best_params_)\n"
      ],
      "metadata": {
        "colab": {
          "base_uri": "https://localhost:8080/"
        },
        "id": "LaK1OiaJ2wZZ",
        "outputId": "dee83405-8c48-4c72-b867-ade73f1d220b"
      },
      "execution_count": null,
      "outputs": [
        {
          "output_type": "stream",
          "name": "stdout",
          "text": [
            "Fitting 5 folds for each of 10 candidates, totalling 50 fits\n",
            "{'alpha': 1e-08}\n",
            "Fitting 5 folds for each of 10 candidates, totalling 50 fits\n",
            "{'alpha': 1e-08}\n"
          ]
        }
      ]
    },
    {
      "cell_type": "code",
      "source": [
        "## Lasso \n",
        "\n",
        "ls = Lasso(alpha = 1e-08)\n",
        "ls.fit(x_train,y_train)\n",
        "y_pred_train = ls.predict(x_train)\n",
        "\n",
        "\n",
        "def sig(y_t):\n",
        "  y =[]\n",
        "  for i in y_t:\n",
        "    if i > 0.5:\n",
        "      y.append(1)\n",
        "    else:\n",
        "      y.append(0)\n",
        "  return y\n",
        "\n",
        "y_t = sig(y_pred_train)\n",
        "print(f1_score(y_t,y_train))\n",
        "print(classification_report(y_t,y_train))\n",
        "\n",
        "y_pred_test = ls.predict(x_test)\n",
        "y_t = sig(y_pred_test)\n",
        "print(f1_score(y_t,y_test))\n",
        "print(classification_report(y_t,y_test))\n",
        "\n",
        "rd = Ridge(alpha = 1e-08)\n",
        "rd.fit(x_train,y_train)\n",
        "\n",
        "y_pred_train1 = rd.predict(x_train)\n",
        "y_t = sig(y_pred_train1)\n",
        "print(f1_score(y_t,y_train))\n",
        "print(classification_report(y_t,y_train))\n",
        "\n",
        "y_pred_test1 = rd.predict(x_test)\n",
        "y_t = sig(y_pred_test1)\n",
        "print(f1_score(y_t,y_test))\n",
        "print(classification_report(y_t,y_test))\n",
        "\n"
      ],
      "metadata": {
        "colab": {
          "base_uri": "https://localhost:8080/"
        },
        "id": "yZqQolrH60Vr",
        "outputId": "58f326f8-f300-4334-aa59-7b025d5fabdc"
      },
      "execution_count": null,
      "outputs": [
        {
          "output_type": "stream",
          "name": "stdout",
          "text": [
            "0.7860168152222011\n",
            "              precision    recall  f1-score   support\n",
            "\n",
            "           0       0.89      0.76      0.82     10104\n",
            "           1       0.72      0.87      0.79      7184\n",
            "\n",
            "    accuracy                           0.80     17288\n",
            "   macro avg       0.80      0.81      0.80     17288\n",
            "weighted avg       0.82      0.80      0.81     17288\n",
            "\n",
            "0.7914278594567655\n",
            "              precision    recall  f1-score   support\n",
            "\n",
            "           0       0.88      0.77      0.82      2479\n",
            "           1       0.73      0.86      0.79      1843\n",
            "\n",
            "    accuracy                           0.81      4322\n",
            "   macro avg       0.81      0.81      0.81      4322\n",
            "weighted avg       0.82      0.81      0.81      4322\n",
            "\n",
            "0.7860168152222011\n",
            "              precision    recall  f1-score   support\n",
            "\n",
            "           0       0.89      0.76      0.82     10104\n",
            "           1       0.72      0.87      0.79      7184\n",
            "\n",
            "    accuracy                           0.80     17288\n",
            "   macro avg       0.80      0.81      0.80     17288\n",
            "weighted avg       0.82      0.80      0.81     17288\n",
            "\n",
            "0.7914278594567655\n",
            "              precision    recall  f1-score   support\n",
            "\n",
            "           0       0.88      0.77      0.82      2479\n",
            "           1       0.73      0.86      0.79      1843\n",
            "\n",
            "    accuracy                           0.81      4322\n",
            "   macro avg       0.81      0.81      0.81      4322\n",
            "weighted avg       0.82      0.81      0.81      4322\n",
            "\n"
          ]
        }
      ]
    },
    {
      "cell_type": "markdown",
      "source": [
        "## Random Forest "
      ],
      "metadata": {
        "id": "9uEka8b68MWN"
      }
    },
    {
      "cell_type": "code",
      "source": [
        "## Tuning\n",
        "x_train,x_test,y_train,y_test = train_test_split(X1,Y1,test_size=0.2)\n",
        "\n",
        "scaler = MinMaxScaler()\n",
        "x_train = scaler.fit_transform(x_train)\n",
        "\n",
        "params = { 'max_depth': [60,75,80,90,100],\n",
        "          'n_estimators':[50,100,150,200],'bootstrap':[True,False],'criterion':['entropy','gini']}\n",
        "\n",
        "dtc = RandomForestClassifier()\n",
        "\n",
        "grid_search = GridSearchCV(estimator=dtc, \n",
        "                           param_grid=params, \n",
        "                           cv=5, n_jobs=-1, verbose=1, scoring = \"accuracy\")\n",
        "\n",
        "grid_search.fit(x_train,y_train)\n",
        "\n",
        "print(\"Best: %f using %s\" % (grid_search.best_score_, grid_search.best_params_))"
      ],
      "metadata": {
        "colab": {
          "base_uri": "https://localhost:8080/"
        },
        "id": "haMSgKysJNhf",
        "outputId": "7a8dfabb-6a73-4b48-c5fc-5fa6ecadea1d"
      },
      "execution_count": null,
      "outputs": [
        {
          "output_type": "stream",
          "name": "stdout",
          "text": [
            "Fitting 5 folds for each of 80 candidates, totalling 400 fits\n",
            "Best: 0.627544 using {'bootstrap': True, 'criterion': 'entropy', 'max_depth': 80, 'n_estimators': 200}\n"
          ]
        }
      ]
    },
    {
      "cell_type": "code",
      "source": [
        "x_train,x_test,y_train,y_test = train_test_split(X1,Y1,test_size=0.2)\n",
        "\n",
        "scaler = MinMaxScaler()\n",
        "#x_train = scaler.fit_transform(x_train)\n",
        "#x_test = scaler.fit_transform(x_test)\n",
        "\n",
        "rf = RandomForestClassifier(max_depth=100,criterion='entropy')\n",
        "rf.fit(x_train,y_train)\n",
        "\n",
        "y_pred_train = rf.predict(x_train)\n",
        "print(classification_report(y_pred_train,y_train))\n",
        "print(f1_score(y_pred_train,y_train),'\\n\\n')\n",
        "\n",
        "\n",
        "y_pred_test = rf.predict(x_test)\n",
        "print(classification_report(y_pred_test,y_test))\n",
        "print(f1_score(y_pred_test,y_test),'\\n\\n')"
      ],
      "metadata": {
        "colab": {
          "base_uri": "https://localhost:8080/"
        },
        "id": "MgsMCOnt8PVM",
        "outputId": "cf6d4ee0-7130-46aa-9dc4-26b8787b7c5e"
      },
      "execution_count": null,
      "outputs": [
        {
          "output_type": "stream",
          "name": "stdout",
          "text": [
            "              precision    recall  f1-score   support\n",
            "\n",
            "         0.0       1.00      1.00      1.00      2830\n",
            "         1.0       1.00      1.00      1.00      2870\n",
            "\n",
            "    accuracy                           1.00      5700\n",
            "   macro avg       1.00      1.00      1.00      5700\n",
            "weighted avg       1.00      1.00      1.00      5700\n",
            "\n",
            "0.9989547038327526 \n",
            "\n",
            "\n",
            "              precision    recall  f1-score   support\n",
            "\n",
            "         0.0       0.78      0.77      0.77       746\n",
            "         1.0       0.75      0.76      0.75       680\n",
            "\n",
            "    accuracy                           0.76      1426\n",
            "   macro avg       0.76      0.76      0.76      1426\n",
            "weighted avg       0.76      0.76      0.76      1426\n",
            "\n",
            "0.7545520757465405 \n",
            "\n",
            "\n"
          ]
        }
      ]
    },
    {
      "cell_type": "markdown",
      "source": [
        "## Decision Tree"
      ],
      "metadata": {
        "id": "tI5v9d7GSR6i"
      }
    },
    {
      "cell_type": "code",
      "source": [
        "## Tuning\n",
        "from sklearn.tree import DecisionTreeClassifier\n",
        "x_train,x_test,y_train,y_test = train_test_split(X1,Y1,test_size=0.2)\n",
        "\n",
        "scaler = MinMaxScaler()\n",
        "x_train = scaler.fit_transform(x_train)\n",
        "\n",
        "params = {\n",
        "    'max_depth': [50,60,70,80,90,100],\n",
        "   \n",
        "}\n",
        "\n",
        "dtc = DecisionTreeClassifier()\n",
        "\n",
        "grid_search = GridSearchCV(estimator=dtc, \n",
        "                           param_grid=params, \n",
        "                           cv=5, n_jobs=-1, verbose=1, scoring = \"accuracy\")\n",
        "\n",
        "grid_search.fit(x_train,y_train)\n",
        "\n",
        "print(\"Best: %f using %s\" % (grid_search.best_score_, grid_search.best_params_))"
      ],
      "metadata": {
        "colab": {
          "base_uri": "https://localhost:8080/"
        },
        "id": "SRi2yG8XWVLo",
        "outputId": "2a1c92fd-780f-44e3-faaa-ebda92795818"
      },
      "execution_count": null,
      "outputs": [
        {
          "output_type": "stream",
          "name": "stdout",
          "text": [
            "Fitting 5 folds for each of 6 candidates, totalling 30 fits\n",
            "Best: 0.847467 using {'max_depth': 50}\n"
          ]
        }
      ]
    },
    {
      "cell_type": "code",
      "source": [
        "from sklearn.tree import DecisionTreeClassifier\n",
        "from sklearn.model_selection import cross_val_score\n",
        "\n",
        "x_train,x_test,y_train,y_test = train_test_split(X1,Y1,test_size=0.2)\n",
        "\n",
        "x_train = scaler.fit_transform(x_train)\n",
        "x_test = scaler.transform(x_test)\n",
        "\n",
        "dtc = DecisionTreeClassifier(max_depth=100)\n",
        "\n",
        "\n",
        "dtc.fit(x_train,y_train)\n",
        "\n",
        "y_pred_train = dtc.predict(x_train)\n",
        "print(classification_report(y_pred_train,y_train))\n",
        "print(f1_score(y_pred_train,y_train),'\\n\\n')\n",
        "\n",
        "\n",
        "y_pred_test = dtc.predict(x_test)\n",
        "print(classification_report(y_pred_test,y_test))\n",
        "print(f1_score(y_pred_test,y_test),'\\n\\n')"
      ],
      "metadata": {
        "colab": {
          "base_uri": "https://localhost:8080/"
        },
        "id": "s9w1Xj5jSUJE",
        "outputId": "b425a9b5-f28b-4452-be73-404dcec7eda2"
      },
      "execution_count": null,
      "outputs": [
        {
          "output_type": "stream",
          "name": "stdout",
          "text": [
            "              precision    recall  f1-score   support\n",
            "\n",
            "         0.0       1.00      1.00      1.00      2846\n",
            "         1.0       1.00      1.00      1.00      2854\n",
            "\n",
            "    accuracy                           1.00      5700\n",
            "   macro avg       1.00      1.00      1.00      5700\n",
            "weighted avg       1.00      1.00      1.00      5700\n",
            "\n",
            "0.9992997198879552 \n",
            "\n",
            "\n",
            "              precision    recall  f1-score   support\n",
            "\n",
            "         0.0       0.69      0.67      0.68       742\n",
            "         1.0       0.65      0.67      0.66       684\n",
            "\n",
            "    accuracy                           0.67      1426\n",
            "   macro avg       0.67      0.67      0.67      1426\n",
            "weighted avg       0.67      0.67      0.67      1426\n",
            "\n",
            "0.6580273578113751 \n",
            "\n",
            "\n"
          ]
        }
      ]
    },
    {
      "cell_type": "markdown",
      "source": [
        "## Neural Networks"
      ],
      "metadata": {
        "id": "vO-RvoHqzTH3"
      }
    },
    {
      "cell_type": "code",
      "source": [
        "x_train, x_test, y_train, y_test = train_test_split(X1,Y1,test_size=0.2)"
      ],
      "metadata": {
        "id": "-hiegn3BOQbw"
      },
      "execution_count": null,
      "outputs": []
    },
    {
      "cell_type": "code",
      "source": [
        "scaler = MinMaxScaler()\n",
        "\n",
        "x_train = scaler.fit_transform(x_train)\n",
        "x_test = scaler.transform(x_test)"
      ],
      "metadata": {
        "id": "OYqmx4utKvua"
      },
      "execution_count": null,
      "outputs": []
    },
    {
      "cell_type": "code",
      "source": [
        "model = Sequential(Dense(64,activation='relu',input_dim=29))\n",
        "model.add(Dropout(0.125))\n",
        "model.add(Dense(16,activation='relu'))\n",
        "model.add(Dense(8,activation='relu'))\n",
        "model.add(Dense(1,activation='sigmoid'))\n",
        "model.compile(optimizer='adam',loss='binary_crossentropy',metrics=['accuracy'])"
      ],
      "metadata": {
        "id": "OcUz-pRXOjGt"
      },
      "execution_count": null,
      "outputs": []
    },
    {
      "cell_type": "code",
      "source": [
        "model.fit(x_train,y_train,epochs=500)"
      ],
      "metadata": {
        "id": "nEbSnZakPJuU",
        "colab": {
          "base_uri": "https://localhost:8080/"
        },
        "outputId": "5e03beb1-1962-42b1-987d-4bb325b6e60e"
      },
      "execution_count": null,
      "outputs": [
        {
          "output_type": "stream",
          "name": "stdout",
          "text": [
            "179/179 [==============================] - 0s 2ms/step - loss: 0.3826 - accuracy: 0.8198\n",
            "Epoch 484/500\n",
            "179/179 [==============================] - 0s 2ms/step - loss: 0.3922 - accuracy: 0.8172\n",
            "Epoch 485/500\n",
            "179/179 [==============================] - 0s 2ms/step - loss: 0.3885 - accuracy: 0.8196\n",
            "Epoch 486/500\n",
            "179/179 [==============================] - 0s 2ms/step - loss: 0.3847 - accuracy: 0.8228\n",
            "Epoch 487/500\n",
            "179/179 [==============================] - 0s 2ms/step - loss: 0.3833 - accuracy: 0.8254\n",
            "Epoch 488/500\n",
            "179/179 [==============================] - 0s 2ms/step - loss: 0.3789 - accuracy: 0.8274\n",
            "Epoch 489/500\n",
            "179/179 [==============================] - 0s 2ms/step - loss: 0.3787 - accuracy: 0.8272\n",
            "Epoch 490/500\n",
            "179/179 [==============================] - 0s 2ms/step - loss: 0.3864 - accuracy: 0.8225\n",
            "Epoch 491/500\n",
            "179/179 [==============================] - 0s 2ms/step - loss: 0.3850 - accuracy: 0.8272\n",
            "Epoch 492/500\n",
            "179/179 [==============================] - 0s 2ms/step - loss: 0.3787 - accuracy: 0.8275\n",
            "Epoch 493/500\n",
            "179/179 [==============================] - 0s 2ms/step - loss: 0.3831 - accuracy: 0.8263\n",
            "Epoch 494/500\n",
            "179/179 [==============================] - 0s 2ms/step - loss: 0.3876 - accuracy: 0.8284\n",
            "Epoch 495/500\n",
            "179/179 [==============================] - 0s 2ms/step - loss: 0.3824 - accuracy: 0.8249\n",
            "Epoch 496/500\n",
            "179/179 [==============================] - 0s 2ms/step - loss: 0.3777 - accuracy: 0.8272\n",
            "Epoch 497/500\n",
            "179/179 [==============================] - 0s 2ms/step - loss: 0.3797 - accuracy: 0.8258\n",
            "Epoch 498/500\n",
            "179/179 [==============================] - 0s 2ms/step - loss: 0.3887 - accuracy: 0.8205\n",
            "Epoch 499/500\n",
            "179/179 [==============================] - 0s 2ms/step - loss: 0.3865 - accuracy: 0.8237\n",
            "Epoch 500/500\n",
            "179/179 [==============================] - 0s 2ms/step - loss: 0.3854 - accuracy: 0.8279\n"
          ]
        },
        {
          "output_type": "execute_result",
          "data": {
            "text/plain": [
              "<keras.callbacks.History at 0x7fa528342f90>"
            ]
          },
          "metadata": {},
          "execution_count": 53
        }
      ]
    },
    {
      "cell_type": "code",
      "source": [
        "\n",
        "y_train_pred = model.predict(x_train)\n",
        "#y_train_pred = np.argmax(y_train_pred, axis = 1)\n",
        "y_train_pred1 = []\n",
        "for i in y_train_pred:\n",
        "  if i > 0.5:\n",
        "    y_train_pred1.append(1)a\n",
        "  else:\n",
        "    y_train_pred1.append(0)\n",
        "\n",
        "print(classification_report(y_train_pred1,y_train))\n",
        "f1_score(y_train_pred1,y_train)"
      ],
      "metadata": {
        "colab": {
          "base_uri": "https://localhost:8080/"
        },
        "id": "cFLxPLQ6PMpP",
        "outputId": "3f310d50-0d1c-4584-df15-7af3690a81d2"
      },
      "execution_count": null,
      "outputs": [
        {
          "output_type": "stream",
          "name": "stdout",
          "text": [
            "              precision    recall  f1-score   support\n",
            "\n",
            "           0       0.86      0.85      0.86      2866\n",
            "           1       0.85      0.86      0.86      2834\n",
            "\n",
            "    accuracy                           0.86      5700\n",
            "   macro avg       0.86      0.86      0.86      5700\n",
            "weighted avg       0.86      0.86      0.86      5700\n",
            "\n"
          ]
        },
        {
          "output_type": "execute_result",
          "data": {
            "text/plain": [
              "0.8558875219683656"
            ]
          },
          "metadata": {},
          "execution_count": 54
        }
      ]
    },
    {
      "cell_type": "code",
      "source": [
        "y_test_pred = model.predict(x_test)\n",
        "y_test_pred1 = []\n",
        "for i in y_test_pred:\n",
        "  if i > 0.5:\n",
        "    y_test_pred1.append(1)\n",
        "  else:\n",
        "    y_test_pred1.append(0)\n",
        "\n",
        "#print(len(y_test),len(y_test_pred1))\n",
        "print(classification_report(y_test_pred1,y_test))\n",
        "f1_score(y_test_pred1,y_test)"
      ],
      "metadata": {
        "colab": {
          "base_uri": "https://localhost:8080/"
        },
        "id": "Ep5CqgPvQGhk",
        "outputId": "1c057354-d78e-4fa4-b1a3-bb6ae665ea15"
      },
      "execution_count": null,
      "outputs": [
        {
          "output_type": "stream",
          "name": "stdout",
          "text": [
            "              precision    recall  f1-score   support\n",
            "\n",
            "           0       0.71      0.70      0.71       733\n",
            "           1       0.69      0.70      0.70       693\n",
            "\n",
            "    accuracy                           0.70      1426\n",
            "   macro avg       0.70      0.70      0.70      1426\n",
            "weighted avg       0.70      0.70      0.70      1426\n",
            "\n"
          ]
        },
        {
          "output_type": "execute_result",
          "data": {
            "text/plain": [
              "0.6971428571428571"
            ]
          },
          "metadata": {},
          "execution_count": 55
        }
      ]
    },
    {
      "cell_type": "markdown",
      "source": [
        "## Logistic Regression"
      ],
      "metadata": {
        "id": "NYJupu_PyHDS"
      }
    },
    {
      "cell_type": "code",
      "source": [
        "##Tuning the Hyperparameters in LogisticRegression\n",
        "\n",
        "x_train, x_test, y_train, y_test = train_test_split(X1,Y1,test_size=0.2)\n",
        "\n",
        "y_train = y_train.values.reshape(-1,1)\n",
        "y_test = y_test.values.reshape(-1,1)\n",
        "\n",
        "scaler = MinMaxScaler()\n",
        "x_train = scaler.fit_transform(x_train)\n",
        "x_test = scaler.transform(x_test)\n",
        "\n",
        "lr = LogisticRegression()\n",
        "solvers = ['newton-cg', 'lbfgs', 'liblinear','sag','saga']\n",
        "penalty = ['l1','l2','none','elasticnet']\n",
        "c_values = [1e-15, 1e-10, 1e-8, 1e-4, 1e-3,1e-2, 1, 5, 10, 20,30,40,50,100]\n",
        "grid = dict(solver=solvers,penalty=penalty,C=c_values)\n",
        "folds = KFold(n_splits=5,shuffle=True,random_state=100)\n",
        "\n",
        "grid_sea = GridSearchCV(estimator=lr,param_grid=grid,cv=folds,scoring=\"accuracy\",n_jobs=-1,error_score=0)\n",
        "grid_sea.fit(x_train,y_train)\n",
        "# summarize results\n",
        "print(\"Best: %f using %s\" % (grid_sea.best_score_, grid_sea.best_params_))\n",
        "means = grid_sea.cv_results_['mean_test_score']\n",
        "stds = grid_sea.cv_results_['std_test_score']\n",
        "params = grid_sea.cv_results_['params']\n",
        "#for mean, stdev, param in zip(means, stds, params):\n",
        "#    print(\"%f (%f) with: %r\" % (mean, stdev, param))\n",
        "\n"
      ],
      "metadata": {
        "colab": {
          "base_uri": "https://localhost:8080/"
        },
        "id": "OztYZdC2yGWQ",
        "outputId": "9358d86a-005a-476f-a26b-f08c742eff95"
      },
      "execution_count": null,
      "outputs": [
        {
          "output_type": "stream",
          "name": "stderr",
          "text": [
            "/usr/local/lib/python3.7/dist-packages/sklearn/model_selection/_validation.py:372: FitFailedWarning: \n",
            "630 fits failed out of a total of 1400.\n",
            "The score on these train-test partitions for these parameters will be set to 0.\n",
            "If these failures are not expected, you can try to debug them by setting error_score='raise'.\n",
            "\n",
            "Below are more details about the failures:\n",
            "--------------------------------------------------------------------------------\n",
            "70 fits failed with the following error:\n",
            "Traceback (most recent call last):\n",
            "  File \"/usr/local/lib/python3.7/dist-packages/sklearn/model_selection/_validation.py\", line 680, in _fit_and_score\n",
            "    estimator.fit(X_train, y_train, **fit_params)\n",
            "  File \"/usr/local/lib/python3.7/dist-packages/sklearn/linear_model/_logistic.py\", line 1461, in fit\n",
            "    solver = _check_solver(self.solver, self.penalty, self.dual)\n",
            "  File \"/usr/local/lib/python3.7/dist-packages/sklearn/linear_model/_logistic.py\", line 449, in _check_solver\n",
            "    % (solver, penalty)\n",
            "ValueError: Solver newton-cg supports only 'l2' or 'none' penalties, got l1 penalty.\n",
            "\n",
            "--------------------------------------------------------------------------------\n",
            "70 fits failed with the following error:\n",
            "Traceback (most recent call last):\n",
            "  File \"/usr/local/lib/python3.7/dist-packages/sklearn/model_selection/_validation.py\", line 680, in _fit_and_score\n",
            "    estimator.fit(X_train, y_train, **fit_params)\n",
            "  File \"/usr/local/lib/python3.7/dist-packages/sklearn/linear_model/_logistic.py\", line 1461, in fit\n",
            "    solver = _check_solver(self.solver, self.penalty, self.dual)\n",
            "  File \"/usr/local/lib/python3.7/dist-packages/sklearn/linear_model/_logistic.py\", line 449, in _check_solver\n",
            "    % (solver, penalty)\n",
            "ValueError: Solver lbfgs supports only 'l2' or 'none' penalties, got l1 penalty.\n",
            "\n",
            "--------------------------------------------------------------------------------\n",
            "70 fits failed with the following error:\n",
            "Traceback (most recent call last):\n",
            "  File \"/usr/local/lib/python3.7/dist-packages/sklearn/model_selection/_validation.py\", line 680, in _fit_and_score\n",
            "    estimator.fit(X_train, y_train, **fit_params)\n",
            "  File \"/usr/local/lib/python3.7/dist-packages/sklearn/linear_model/_logistic.py\", line 1461, in fit\n",
            "    solver = _check_solver(self.solver, self.penalty, self.dual)\n",
            "  File \"/usr/local/lib/python3.7/dist-packages/sklearn/linear_model/_logistic.py\", line 449, in _check_solver\n",
            "    % (solver, penalty)\n",
            "ValueError: Solver sag supports only 'l2' or 'none' penalties, got l1 penalty.\n",
            "\n",
            "--------------------------------------------------------------------------------\n",
            "70 fits failed with the following error:\n",
            "Traceback (most recent call last):\n",
            "  File \"/usr/local/lib/python3.7/dist-packages/sklearn/model_selection/_validation.py\", line 680, in _fit_and_score\n",
            "    estimator.fit(X_train, y_train, **fit_params)\n",
            "  File \"/usr/local/lib/python3.7/dist-packages/sklearn/linear_model/_logistic.py\", line 1461, in fit\n",
            "    solver = _check_solver(self.solver, self.penalty, self.dual)\n",
            "  File \"/usr/local/lib/python3.7/dist-packages/sklearn/linear_model/_logistic.py\", line 464, in _check_solver\n",
            "    raise ValueError(\"penalty='none' is not supported for the liblinear solver\")\n",
            "ValueError: penalty='none' is not supported for the liblinear solver\n",
            "\n",
            "--------------------------------------------------------------------------------\n",
            "70 fits failed with the following error:\n",
            "Traceback (most recent call last):\n",
            "  File \"/usr/local/lib/python3.7/dist-packages/sklearn/model_selection/_validation.py\", line 680, in _fit_and_score\n",
            "    estimator.fit(X_train, y_train, **fit_params)\n",
            "  File \"/usr/local/lib/python3.7/dist-packages/sklearn/linear_model/_logistic.py\", line 1461, in fit\n",
            "    solver = _check_solver(self.solver, self.penalty, self.dual)\n",
            "  File \"/usr/local/lib/python3.7/dist-packages/sklearn/linear_model/_logistic.py\", line 449, in _check_solver\n",
            "    % (solver, penalty)\n",
            "ValueError: Solver newton-cg supports only 'l2' or 'none' penalties, got elasticnet penalty.\n",
            "\n",
            "--------------------------------------------------------------------------------\n",
            "70 fits failed with the following error:\n",
            "Traceback (most recent call last):\n",
            "  File \"/usr/local/lib/python3.7/dist-packages/sklearn/model_selection/_validation.py\", line 680, in _fit_and_score\n",
            "    estimator.fit(X_train, y_train, **fit_params)\n",
            "  File \"/usr/local/lib/python3.7/dist-packages/sklearn/linear_model/_logistic.py\", line 1461, in fit\n",
            "    solver = _check_solver(self.solver, self.penalty, self.dual)\n",
            "  File \"/usr/local/lib/python3.7/dist-packages/sklearn/linear_model/_logistic.py\", line 449, in _check_solver\n",
            "    % (solver, penalty)\n",
            "ValueError: Solver lbfgs supports only 'l2' or 'none' penalties, got elasticnet penalty.\n",
            "\n",
            "--------------------------------------------------------------------------------\n",
            "70 fits failed with the following error:\n",
            "Traceback (most recent call last):\n",
            "  File \"/usr/local/lib/python3.7/dist-packages/sklearn/model_selection/_validation.py\", line 680, in _fit_and_score\n",
            "    estimator.fit(X_train, y_train, **fit_params)\n",
            "  File \"/usr/local/lib/python3.7/dist-packages/sklearn/linear_model/_logistic.py\", line 1461, in fit\n",
            "    solver = _check_solver(self.solver, self.penalty, self.dual)\n",
            "  File \"/usr/local/lib/python3.7/dist-packages/sklearn/linear_model/_logistic.py\", line 459, in _check_solver\n",
            "    solver\n",
            "ValueError: Only 'saga' solver supports elasticnet penalty, got solver=liblinear.\n",
            "\n",
            "--------------------------------------------------------------------------------\n",
            "70 fits failed with the following error:\n",
            "Traceback (most recent call last):\n",
            "  File \"/usr/local/lib/python3.7/dist-packages/sklearn/model_selection/_validation.py\", line 680, in _fit_and_score\n",
            "    estimator.fit(X_train, y_train, **fit_params)\n",
            "  File \"/usr/local/lib/python3.7/dist-packages/sklearn/linear_model/_logistic.py\", line 1461, in fit\n",
            "    solver = _check_solver(self.solver, self.penalty, self.dual)\n",
            "  File \"/usr/local/lib/python3.7/dist-packages/sklearn/linear_model/_logistic.py\", line 449, in _check_solver\n",
            "    % (solver, penalty)\n",
            "ValueError: Solver sag supports only 'l2' or 'none' penalties, got elasticnet penalty.\n",
            "\n",
            "--------------------------------------------------------------------------------\n",
            "70 fits failed with the following error:\n",
            "Traceback (most recent call last):\n",
            "  File \"/usr/local/lib/python3.7/dist-packages/sklearn/model_selection/_validation.py\", line 680, in _fit_and_score\n",
            "    estimator.fit(X_train, y_train, **fit_params)\n",
            "  File \"/usr/local/lib/python3.7/dist-packages/sklearn/linear_model/_logistic.py\", line 1473, in fit\n",
            "    % self.l1_ratio\n",
            "ValueError: l1_ratio must be between 0 and 1; got (l1_ratio=None)\n",
            "\n",
            "  warnings.warn(some_fits_failed_message, FitFailedWarning)\n",
            "/usr/local/lib/python3.7/dist-packages/sklearn/utils/validation.py:993: DataConversionWarning: A column-vector y was passed when a 1d array was expected. Please change the shape of y to (n_samples, ), for example using ravel().\n",
            "  y = column_or_1d(y, warn=True)\n"
          ]
        },
        {
          "output_type": "stream",
          "name": "stdout",
          "text": [
            "Best: 0.838674 using {'C': 10, 'penalty': 'l1', 'solver': 'saga'}\n",
            "0.000000 (0.000000) with: {'C': 1e-15, 'penalty': 'l1', 'solver': 'newton-cg'}\n",
            "0.000000 (0.000000) with: {'C': 1e-15, 'penalty': 'l1', 'solver': 'lbfgs'}\n",
            "0.502083 (0.012181) with: {'C': 1e-15, 'penalty': 'l1', 'solver': 'liblinear'}\n",
            "0.000000 (0.000000) with: {'C': 1e-15, 'penalty': 'l1', 'solver': 'sag'}\n",
            "0.496994 (0.011986) with: {'C': 1e-15, 'penalty': 'l1', 'solver': 'saga'}\n",
            "0.491266 (0.008742) with: {'C': 1e-15, 'penalty': 'l2', 'solver': 'newton-cg'}\n",
            "0.502083 (0.012181) with: {'C': 1e-15, 'penalty': 'l2', 'solver': 'lbfgs'}\n",
            "0.502083 (0.012181) with: {'C': 1e-15, 'penalty': 'l2', 'solver': 'liblinear'}\n",
            "0.491266 (0.008742) with: {'C': 1e-15, 'penalty': 'l2', 'solver': 'sag'}\n",
            "0.491266 (0.008742) with: {'C': 1e-15, 'penalty': 'l2', 'solver': 'saga'}\n",
            "0.838617 (0.002442) with: {'C': 1e-15, 'penalty': 'none', 'solver': 'newton-cg'}\n",
            "0.838501 (0.002329) with: {'C': 1e-15, 'penalty': 'none', 'solver': 'lbfgs'}\n",
            "0.000000 (0.000000) with: {'C': 1e-15, 'penalty': 'none', 'solver': 'liblinear'}\n",
            "0.838559 (0.002348) with: {'C': 1e-15, 'penalty': 'none', 'solver': 'sag'}\n",
            "0.838617 (0.002423) with: {'C': 1e-15, 'penalty': 'none', 'solver': 'saga'}\n",
            "0.000000 (0.000000) with: {'C': 1e-15, 'penalty': 'elasticnet', 'solver': 'newton-cg'}\n",
            "0.000000 (0.000000) with: {'C': 1e-15, 'penalty': 'elasticnet', 'solver': 'lbfgs'}\n",
            "0.000000 (0.000000) with: {'C': 1e-15, 'penalty': 'elasticnet', 'solver': 'liblinear'}\n",
            "0.000000 (0.000000) with: {'C': 1e-15, 'penalty': 'elasticnet', 'solver': 'sag'}\n",
            "0.000000 (0.000000) with: {'C': 1e-15, 'penalty': 'elasticnet', 'solver': 'saga'}\n",
            "0.000000 (0.000000) with: {'C': 1e-10, 'penalty': 'l1', 'solver': 'newton-cg'}\n",
            "0.000000 (0.000000) with: {'C': 1e-10, 'penalty': 'l1', 'solver': 'lbfgs'}\n",
            "0.502083 (0.012181) with: {'C': 1e-10, 'penalty': 'l1', 'solver': 'liblinear'}\n",
            "0.000000 (0.000000) with: {'C': 1e-10, 'penalty': 'l1', 'solver': 'sag'}\n",
            "0.503065 (0.011971) with: {'C': 1e-10, 'penalty': 'l1', 'solver': 'saga'}\n",
            "0.491266 (0.008742) with: {'C': 1e-10, 'penalty': 'l2', 'solver': 'newton-cg'}\n",
            "0.491266 (0.008742) with: {'C': 1e-10, 'penalty': 'l2', 'solver': 'lbfgs'}\n",
            "0.502083 (0.012181) with: {'C': 1e-10, 'penalty': 'l2', 'solver': 'liblinear'}\n",
            "0.491266 (0.008742) with: {'C': 1e-10, 'penalty': 'l2', 'solver': 'sag'}\n",
            "0.491266 (0.008742) with: {'C': 1e-10, 'penalty': 'l2', 'solver': 'saga'}\n",
            "0.838617 (0.002442) with: {'C': 1e-10, 'penalty': 'none', 'solver': 'newton-cg'}\n",
            "0.838501 (0.002329) with: {'C': 1e-10, 'penalty': 'none', 'solver': 'lbfgs'}\n",
            "0.000000 (0.000000) with: {'C': 1e-10, 'penalty': 'none', 'solver': 'liblinear'}\n",
            "0.838559 (0.002348) with: {'C': 1e-10, 'penalty': 'none', 'solver': 'sag'}\n",
            "0.838617 (0.002423) with: {'C': 1e-10, 'penalty': 'none', 'solver': 'saga'}\n",
            "0.000000 (0.000000) with: {'C': 1e-10, 'penalty': 'elasticnet', 'solver': 'newton-cg'}\n",
            "0.000000 (0.000000) with: {'C': 1e-10, 'penalty': 'elasticnet', 'solver': 'lbfgs'}\n",
            "0.000000 (0.000000) with: {'C': 1e-10, 'penalty': 'elasticnet', 'solver': 'liblinear'}\n",
            "0.000000 (0.000000) with: {'C': 1e-10, 'penalty': 'elasticnet', 'solver': 'sag'}\n",
            "0.000000 (0.000000) with: {'C': 1e-10, 'penalty': 'elasticnet', 'solver': 'saga'}\n",
            "0.000000 (0.000000) with: {'C': 1e-08, 'penalty': 'l1', 'solver': 'newton-cg'}\n",
            "0.000000 (0.000000) with: {'C': 1e-08, 'penalty': 'l1', 'solver': 'lbfgs'}\n",
            "0.502083 (0.012181) with: {'C': 1e-08, 'penalty': 'l1', 'solver': 'liblinear'}\n",
            "0.000000 (0.000000) with: {'C': 1e-08, 'penalty': 'l1', 'solver': 'sag'}\n",
            "0.499017 (0.012318) with: {'C': 1e-08, 'penalty': 'l1', 'solver': 'saga'}\n",
            "0.491266 (0.008742) with: {'C': 1e-08, 'penalty': 'l2', 'solver': 'newton-cg'}\n",
            "0.491266 (0.008742) with: {'C': 1e-08, 'penalty': 'l2', 'solver': 'lbfgs'}\n",
            "0.502083 (0.012181) with: {'C': 1e-08, 'penalty': 'l2', 'solver': 'liblinear'}\n",
            "0.491266 (0.008742) with: {'C': 1e-08, 'penalty': 'l2', 'solver': 'sag'}\n",
            "0.491266 (0.008742) with: {'C': 1e-08, 'penalty': 'l2', 'solver': 'saga'}\n",
            "0.838617 (0.002442) with: {'C': 1e-08, 'penalty': 'none', 'solver': 'newton-cg'}\n",
            "0.838501 (0.002329) with: {'C': 1e-08, 'penalty': 'none', 'solver': 'lbfgs'}\n",
            "0.000000 (0.000000) with: {'C': 1e-08, 'penalty': 'none', 'solver': 'liblinear'}\n",
            "0.838559 (0.002348) with: {'C': 1e-08, 'penalty': 'none', 'solver': 'sag'}\n",
            "0.838617 (0.002423) with: {'C': 1e-08, 'penalty': 'none', 'solver': 'saga'}\n",
            "0.000000 (0.000000) with: {'C': 1e-08, 'penalty': 'elasticnet', 'solver': 'newton-cg'}\n",
            "0.000000 (0.000000) with: {'C': 1e-08, 'penalty': 'elasticnet', 'solver': 'lbfgs'}\n",
            "0.000000 (0.000000) with: {'C': 1e-08, 'penalty': 'elasticnet', 'solver': 'liblinear'}\n",
            "0.000000 (0.000000) with: {'C': 1e-08, 'penalty': 'elasticnet', 'solver': 'sag'}\n",
            "0.000000 (0.000000) with: {'C': 1e-08, 'penalty': 'elasticnet', 'solver': 'saga'}\n",
            "0.000000 (0.000000) with: {'C': 0.0001, 'penalty': 'l1', 'solver': 'newton-cg'}\n",
            "0.000000 (0.000000) with: {'C': 0.0001, 'penalty': 'l1', 'solver': 'lbfgs'}\n",
            "0.502083 (0.012181) with: {'C': 0.0001, 'penalty': 'l1', 'solver': 'liblinear'}\n",
            "0.000000 (0.000000) with: {'C': 0.0001, 'penalty': 'l1', 'solver': 'sag'}\n",
            "0.506072 (0.010763) with: {'C': 0.0001, 'penalty': 'l1', 'solver': 'saga'}\n",
            "0.698230 (0.007069) with: {'C': 0.0001, 'penalty': 'l2', 'solver': 'newton-cg'}\n",
            "0.698230 (0.007069) with: {'C': 0.0001, 'penalty': 'l2', 'solver': 'lbfgs'}\n",
            "0.600186 (0.017225) with: {'C': 0.0001, 'penalty': 'l2', 'solver': 'liblinear'}\n",
            "0.698346 (0.006985) with: {'C': 0.0001, 'penalty': 'l2', 'solver': 'sag'}\n",
            "0.698230 (0.007069) with: {'C': 0.0001, 'penalty': 'l2', 'solver': 'saga'}\n",
            "0.838617 (0.002442) with: {'C': 0.0001, 'penalty': 'none', 'solver': 'newton-cg'}\n",
            "0.838501 (0.002329) with: {'C': 0.0001, 'penalty': 'none', 'solver': 'lbfgs'}\n",
            "0.000000 (0.000000) with: {'C': 0.0001, 'penalty': 'none', 'solver': 'liblinear'}\n",
            "0.838617 (0.002442) with: {'C': 0.0001, 'penalty': 'none', 'solver': 'sag'}\n",
            "0.838617 (0.002423) with: {'C': 0.0001, 'penalty': 'none', 'solver': 'saga'}\n",
            "0.000000 (0.000000) with: {'C': 0.0001, 'penalty': 'elasticnet', 'solver': 'newton-cg'}\n",
            "0.000000 (0.000000) with: {'C': 0.0001, 'penalty': 'elasticnet', 'solver': 'lbfgs'}\n",
            "0.000000 (0.000000) with: {'C': 0.0001, 'penalty': 'elasticnet', 'solver': 'liblinear'}\n",
            "0.000000 (0.000000) with: {'C': 0.0001, 'penalty': 'elasticnet', 'solver': 'sag'}\n",
            "0.000000 (0.000000) with: {'C': 0.0001, 'penalty': 'elasticnet', 'solver': 'saga'}\n",
            "0.000000 (0.000000) with: {'C': 0.001, 'penalty': 'l1', 'solver': 'newton-cg'}\n",
            "0.000000 (0.000000) with: {'C': 0.001, 'penalty': 'l1', 'solver': 'lbfgs'}\n",
            "0.502083 (0.012181) with: {'C': 0.001, 'penalty': 'l1', 'solver': 'liblinear'}\n",
            "0.000000 (0.000000) with: {'C': 0.001, 'penalty': 'l1', 'solver': 'sag'}\n",
            "0.491266 (0.008742) with: {'C': 0.001, 'penalty': 'l1', 'solver': 'saga'}\n",
            "0.751909 (0.003951) with: {'C': 0.001, 'penalty': 'l2', 'solver': 'newton-cg'}\n",
            "0.751909 (0.003951) with: {'C': 0.001, 'penalty': 'l2', 'solver': 'lbfgs'}\n",
            "0.706386 (0.003839) with: {'C': 0.001, 'penalty': 'l2', 'solver': 'liblinear'}\n",
            "0.751851 (0.003911) with: {'C': 0.001, 'penalty': 'l2', 'solver': 'sag'}\n",
            "0.751909 (0.003951) with: {'C': 0.001, 'penalty': 'l2', 'solver': 'saga'}\n",
            "0.838617 (0.002442) with: {'C': 0.001, 'penalty': 'none', 'solver': 'newton-cg'}\n",
            "0.838501 (0.002329) with: {'C': 0.001, 'penalty': 'none', 'solver': 'lbfgs'}\n",
            "0.000000 (0.000000) with: {'C': 0.001, 'penalty': 'none', 'solver': 'liblinear'}\n",
            "0.838559 (0.002348) with: {'C': 0.001, 'penalty': 'none', 'solver': 'sag'}\n",
            "0.838617 (0.002423) with: {'C': 0.001, 'penalty': 'none', 'solver': 'saga'}\n",
            "0.000000 (0.000000) with: {'C': 0.001, 'penalty': 'elasticnet', 'solver': 'newton-cg'}\n",
            "0.000000 (0.000000) with: {'C': 0.001, 'penalty': 'elasticnet', 'solver': 'lbfgs'}\n",
            "0.000000 (0.000000) with: {'C': 0.001, 'penalty': 'elasticnet', 'solver': 'liblinear'}\n",
            "0.000000 (0.000000) with: {'C': 0.001, 'penalty': 'elasticnet', 'solver': 'sag'}\n",
            "0.000000 (0.000000) with: {'C': 0.001, 'penalty': 'elasticnet', 'solver': 'saga'}\n",
            "0.000000 (0.000000) with: {'C': 0.01, 'penalty': 'l1', 'solver': 'newton-cg'}\n",
            "0.000000 (0.000000) with: {'C': 0.01, 'penalty': 'l1', 'solver': 'lbfgs'}\n",
            "0.805242 (0.009917) with: {'C': 0.01, 'penalty': 'l1', 'solver': 'liblinear'}\n",
            "0.000000 (0.000000) with: {'C': 0.01, 'penalty': 'l1', 'solver': 'sag'}\n",
            "0.799284 (0.007810) with: {'C': 0.01, 'penalty': 'l1', 'solver': 'saga'}\n",
            "0.814380 (0.003840) with: {'C': 0.01, 'penalty': 'l2', 'solver': 'newton-cg'}\n",
            "0.814380 (0.003840) with: {'C': 0.01, 'penalty': 'l2', 'solver': 'lbfgs'}\n",
            "0.799051 (0.002559) with: {'C': 0.01, 'penalty': 'l2', 'solver': 'liblinear'}\n",
            "0.814380 (0.003840) with: {'C': 0.01, 'penalty': 'l2', 'solver': 'sag'}\n",
            "0.814380 (0.003840) with: {'C': 0.01, 'penalty': 'l2', 'solver': 'saga'}\n",
            "0.838617 (0.002442) with: {'C': 0.01, 'penalty': 'none', 'solver': 'newton-cg'}\n",
            "0.838501 (0.002329) with: {'C': 0.01, 'penalty': 'none', 'solver': 'lbfgs'}\n",
            "0.000000 (0.000000) with: {'C': 0.01, 'penalty': 'none', 'solver': 'liblinear'}\n",
            "0.838559 (0.002348) with: {'C': 0.01, 'penalty': 'none', 'solver': 'sag'}\n",
            "0.838617 (0.002423) with: {'C': 0.01, 'penalty': 'none', 'solver': 'saga'}\n",
            "0.000000 (0.000000) with: {'C': 0.01, 'penalty': 'elasticnet', 'solver': 'newton-cg'}\n",
            "0.000000 (0.000000) with: {'C': 0.01, 'penalty': 'elasticnet', 'solver': 'lbfgs'}\n",
            "0.000000 (0.000000) with: {'C': 0.01, 'penalty': 'elasticnet', 'solver': 'liblinear'}\n",
            "0.000000 (0.000000) with: {'C': 0.01, 'penalty': 'elasticnet', 'solver': 'sag'}\n",
            "0.000000 (0.000000) with: {'C': 0.01, 'penalty': 'elasticnet', 'solver': 'saga'}\n",
            "0.000000 (0.000000) with: {'C': 1, 'penalty': 'l1', 'solver': 'newton-cg'}\n",
            "0.000000 (0.000000) with: {'C': 1, 'penalty': 'l1', 'solver': 'lbfgs'}\n",
            "0.838327 (0.002503) with: {'C': 1, 'penalty': 'l1', 'solver': 'liblinear'}\n",
            "0.000000 (0.000000) with: {'C': 1, 'penalty': 'l1', 'solver': 'sag'}\n",
            "0.838385 (0.002615) with: {'C': 1, 'penalty': 'l1', 'solver': 'saga'}\n",
            "0.838038 (0.002811) with: {'C': 1, 'penalty': 'l2', 'solver': 'newton-cg'}\n",
            "0.838038 (0.002811) with: {'C': 1, 'penalty': 'l2', 'solver': 'lbfgs'}\n",
            "0.836708 (0.002407) with: {'C': 1, 'penalty': 'l2', 'solver': 'liblinear'}\n",
            "0.838038 (0.002811) with: {'C': 1, 'penalty': 'l2', 'solver': 'sag'}\n",
            "0.838038 (0.002811) with: {'C': 1, 'penalty': 'l2', 'solver': 'saga'}\n",
            "0.838617 (0.002442) with: {'C': 1, 'penalty': 'none', 'solver': 'newton-cg'}\n",
            "0.838501 (0.002329) with: {'C': 1, 'penalty': 'none', 'solver': 'lbfgs'}\n",
            "0.000000 (0.000000) with: {'C': 1, 'penalty': 'none', 'solver': 'liblinear'}\n",
            "0.838617 (0.002442) with: {'C': 1, 'penalty': 'none', 'solver': 'sag'}\n",
            "0.838617 (0.002423) with: {'C': 1, 'penalty': 'none', 'solver': 'saga'}\n",
            "0.000000 (0.000000) with: {'C': 1, 'penalty': 'elasticnet', 'solver': 'newton-cg'}\n",
            "0.000000 (0.000000) with: {'C': 1, 'penalty': 'elasticnet', 'solver': 'lbfgs'}\n",
            "0.000000 (0.000000) with: {'C': 1, 'penalty': 'elasticnet', 'solver': 'liblinear'}\n",
            "0.000000 (0.000000) with: {'C': 1, 'penalty': 'elasticnet', 'solver': 'sag'}\n",
            "0.000000 (0.000000) with: {'C': 1, 'penalty': 'elasticnet', 'solver': 'saga'}\n",
            "0.000000 (0.000000) with: {'C': 5, 'penalty': 'l1', 'solver': 'newton-cg'}\n",
            "0.000000 (0.000000) with: {'C': 5, 'penalty': 'l1', 'solver': 'lbfgs'}\n",
            "0.838385 (0.002539) with: {'C': 5, 'penalty': 'l1', 'solver': 'liblinear'}\n",
            "0.000000 (0.000000) with: {'C': 5, 'penalty': 'l1', 'solver': 'sag'}\n",
            "0.838559 (0.002513) with: {'C': 5, 'penalty': 'l1', 'solver': 'saga'}\n",
            "0.838385 (0.002299) with: {'C': 5, 'penalty': 'l2', 'solver': 'newton-cg'}\n",
            "0.838385 (0.002226) with: {'C': 5, 'penalty': 'l2', 'solver': 'lbfgs'}\n",
            "0.838038 (0.002411) with: {'C': 5, 'penalty': 'l2', 'solver': 'liblinear'}\n",
            "0.838385 (0.002299) with: {'C': 5, 'penalty': 'l2', 'solver': 'sag'}\n",
            "0.838385 (0.002299) with: {'C': 5, 'penalty': 'l2', 'solver': 'saga'}\n",
            "0.838617 (0.002442) with: {'C': 5, 'penalty': 'none', 'solver': 'newton-cg'}\n",
            "0.838501 (0.002329) with: {'C': 5, 'penalty': 'none', 'solver': 'lbfgs'}\n",
            "0.000000 (0.000000) with: {'C': 5, 'penalty': 'none', 'solver': 'liblinear'}\n",
            "0.838559 (0.002348) with: {'C': 5, 'penalty': 'none', 'solver': 'sag'}\n",
            "0.838617 (0.002423) with: {'C': 5, 'penalty': 'none', 'solver': 'saga'}\n",
            "0.000000 (0.000000) with: {'C': 5, 'penalty': 'elasticnet', 'solver': 'newton-cg'}\n",
            "0.000000 (0.000000) with: {'C': 5, 'penalty': 'elasticnet', 'solver': 'lbfgs'}\n",
            "0.000000 (0.000000) with: {'C': 5, 'penalty': 'elasticnet', 'solver': 'liblinear'}\n",
            "0.000000 (0.000000) with: {'C': 5, 'penalty': 'elasticnet', 'solver': 'sag'}\n",
            "0.000000 (0.000000) with: {'C': 5, 'penalty': 'elasticnet', 'solver': 'saga'}\n",
            "0.000000 (0.000000) with: {'C': 10, 'penalty': 'l1', 'solver': 'newton-cg'}\n",
            "0.000000 (0.000000) with: {'C': 10, 'penalty': 'l1', 'solver': 'lbfgs'}\n",
            "0.838559 (0.002335) with: {'C': 10, 'penalty': 'l1', 'solver': 'liblinear'}\n",
            "0.000000 (0.000000) with: {'C': 10, 'penalty': 'l1', 'solver': 'sag'}\n",
            "0.838674 (0.002446) with: {'C': 10, 'penalty': 'l1', 'solver': 'saga'}\n",
            "0.838617 (0.002318) with: {'C': 10, 'penalty': 'l2', 'solver': 'newton-cg'}\n",
            "0.838443 (0.002482) with: {'C': 10, 'penalty': 'l2', 'solver': 'lbfgs'}\n",
            "0.838096 (0.002692) with: {'C': 10, 'penalty': 'l2', 'solver': 'liblinear'}\n",
            "0.838617 (0.002318) with: {'C': 10, 'penalty': 'l2', 'solver': 'sag'}\n",
            "0.838617 (0.002318) with: {'C': 10, 'penalty': 'l2', 'solver': 'saga'}\n",
            "0.838617 (0.002442) with: {'C': 10, 'penalty': 'none', 'solver': 'newton-cg'}\n",
            "0.838501 (0.002329) with: {'C': 10, 'penalty': 'none', 'solver': 'lbfgs'}\n",
            "0.000000 (0.000000) with: {'C': 10, 'penalty': 'none', 'solver': 'liblinear'}\n",
            "0.838559 (0.002348) with: {'C': 10, 'penalty': 'none', 'solver': 'sag'}\n",
            "0.838617 (0.002423) with: {'C': 10, 'penalty': 'none', 'solver': 'saga'}\n",
            "0.000000 (0.000000) with: {'C': 10, 'penalty': 'elasticnet', 'solver': 'newton-cg'}\n",
            "0.000000 (0.000000) with: {'C': 10, 'penalty': 'elasticnet', 'solver': 'lbfgs'}\n",
            "0.000000 (0.000000) with: {'C': 10, 'penalty': 'elasticnet', 'solver': 'liblinear'}\n",
            "0.000000 (0.000000) with: {'C': 10, 'penalty': 'elasticnet', 'solver': 'sag'}\n",
            "0.000000 (0.000000) with: {'C': 10, 'penalty': 'elasticnet', 'solver': 'saga'}\n",
            "0.000000 (0.000000) with: {'C': 20, 'penalty': 'l1', 'solver': 'newton-cg'}\n",
            "0.000000 (0.000000) with: {'C': 20, 'penalty': 'l1', 'solver': 'lbfgs'}\n",
            "0.838443 (0.002343) with: {'C': 20, 'penalty': 'l1', 'solver': 'liblinear'}\n",
            "0.000000 (0.000000) with: {'C': 20, 'penalty': 'l1', 'solver': 'sag'}\n",
            "0.838674 (0.002446) with: {'C': 20, 'penalty': 'l1', 'solver': 'saga'}\n",
            "0.838617 (0.002498) with: {'C': 20, 'penalty': 'l2', 'solver': 'newton-cg'}\n",
            "0.838501 (0.002493) with: {'C': 20, 'penalty': 'l2', 'solver': 'lbfgs'}\n",
            "0.838212 (0.002447) with: {'C': 20, 'penalty': 'l2', 'solver': 'liblinear'}\n",
            "0.838617 (0.002498) with: {'C': 20, 'penalty': 'l2', 'solver': 'sag'}\n",
            "0.838617 (0.002498) with: {'C': 20, 'penalty': 'l2', 'solver': 'saga'}\n",
            "0.838617 (0.002442) with: {'C': 20, 'penalty': 'none', 'solver': 'newton-cg'}\n",
            "0.838501 (0.002329) with: {'C': 20, 'penalty': 'none', 'solver': 'lbfgs'}\n",
            "0.000000 (0.000000) with: {'C': 20, 'penalty': 'none', 'solver': 'liblinear'}\n",
            "0.838559 (0.002348) with: {'C': 20, 'penalty': 'none', 'solver': 'sag'}\n",
            "0.838617 (0.002423) with: {'C': 20, 'penalty': 'none', 'solver': 'saga'}\n",
            "0.000000 (0.000000) with: {'C': 20, 'penalty': 'elasticnet', 'solver': 'newton-cg'}\n",
            "0.000000 (0.000000) with: {'C': 20, 'penalty': 'elasticnet', 'solver': 'lbfgs'}\n",
            "0.000000 (0.000000) with: {'C': 20, 'penalty': 'elasticnet', 'solver': 'liblinear'}\n",
            "0.000000 (0.000000) with: {'C': 20, 'penalty': 'elasticnet', 'solver': 'sag'}\n",
            "0.000000 (0.000000) with: {'C': 20, 'penalty': 'elasticnet', 'solver': 'saga'}\n",
            "0.000000 (0.000000) with: {'C': 30, 'penalty': 'l1', 'solver': 'newton-cg'}\n",
            "0.000000 (0.000000) with: {'C': 30, 'penalty': 'l1', 'solver': 'lbfgs'}\n",
            "0.838501 (0.002336) with: {'C': 30, 'penalty': 'l1', 'solver': 'liblinear'}\n",
            "0.000000 (0.000000) with: {'C': 30, 'penalty': 'l1', 'solver': 'sag'}\n",
            "0.838617 (0.002423) with: {'C': 30, 'penalty': 'l1', 'solver': 'saga'}\n",
            "0.838617 (0.002536) with: {'C': 30, 'penalty': 'l2', 'solver': 'newton-cg'}\n",
            "0.838443 (0.002374) with: {'C': 30, 'penalty': 'l2', 'solver': 'lbfgs'}\n",
            "0.838443 (0.002343) with: {'C': 30, 'penalty': 'l2', 'solver': 'liblinear'}\n",
            "0.838617 (0.002536) with: {'C': 30, 'penalty': 'l2', 'solver': 'sag'}\n",
            "0.838617 (0.002536) with: {'C': 30, 'penalty': 'l2', 'solver': 'saga'}\n",
            "0.838617 (0.002442) with: {'C': 30, 'penalty': 'none', 'solver': 'newton-cg'}\n",
            "0.838501 (0.002329) with: {'C': 30, 'penalty': 'none', 'solver': 'lbfgs'}\n",
            "0.000000 (0.000000) with: {'C': 30, 'penalty': 'none', 'solver': 'liblinear'}\n",
            "0.838559 (0.002348) with: {'C': 30, 'penalty': 'none', 'solver': 'sag'}\n",
            "0.838617 (0.002423) with: {'C': 30, 'penalty': 'none', 'solver': 'saga'}\n",
            "0.000000 (0.000000) with: {'C': 30, 'penalty': 'elasticnet', 'solver': 'newton-cg'}\n",
            "0.000000 (0.000000) with: {'C': 30, 'penalty': 'elasticnet', 'solver': 'lbfgs'}\n",
            "0.000000 (0.000000) with: {'C': 30, 'penalty': 'elasticnet', 'solver': 'liblinear'}\n",
            "0.000000 (0.000000) with: {'C': 30, 'penalty': 'elasticnet', 'solver': 'sag'}\n",
            "0.000000 (0.000000) with: {'C': 30, 'penalty': 'elasticnet', 'solver': 'saga'}\n",
            "0.000000 (0.000000) with: {'C': 40, 'penalty': 'l1', 'solver': 'newton-cg'}\n",
            "0.000000 (0.000000) with: {'C': 40, 'penalty': 'l1', 'solver': 'lbfgs'}\n",
            "0.838501 (0.002433) with: {'C': 40, 'penalty': 'l1', 'solver': 'liblinear'}\n",
            "0.000000 (0.000000) with: {'C': 40, 'penalty': 'l1', 'solver': 'sag'}\n",
            "0.838617 (0.002423) with: {'C': 40, 'penalty': 'l1', 'solver': 'saga'}\n",
            "0.838617 (0.002449) with: {'C': 40, 'penalty': 'l2', 'solver': 'newton-cg'}\n",
            "0.838501 (0.002399) with: {'C': 40, 'penalty': 'l2', 'solver': 'lbfgs'}\n",
            "0.838443 (0.002343) with: {'C': 40, 'penalty': 'l2', 'solver': 'liblinear'}\n",
            "0.838617 (0.002449) with: {'C': 40, 'penalty': 'l2', 'solver': 'sag'}\n",
            "0.838674 (0.002446) with: {'C': 40, 'penalty': 'l2', 'solver': 'saga'}\n",
            "0.838617 (0.002442) with: {'C': 40, 'penalty': 'none', 'solver': 'newton-cg'}\n",
            "0.838501 (0.002329) with: {'C': 40, 'penalty': 'none', 'solver': 'lbfgs'}\n",
            "0.000000 (0.000000) with: {'C': 40, 'penalty': 'none', 'solver': 'liblinear'}\n",
            "0.838559 (0.002348) with: {'C': 40, 'penalty': 'none', 'solver': 'sag'}\n",
            "0.838617 (0.002423) with: {'C': 40, 'penalty': 'none', 'solver': 'saga'}\n",
            "0.000000 (0.000000) with: {'C': 40, 'penalty': 'elasticnet', 'solver': 'newton-cg'}\n",
            "0.000000 (0.000000) with: {'C': 40, 'penalty': 'elasticnet', 'solver': 'lbfgs'}\n",
            "0.000000 (0.000000) with: {'C': 40, 'penalty': 'elasticnet', 'solver': 'liblinear'}\n",
            "0.000000 (0.000000) with: {'C': 40, 'penalty': 'elasticnet', 'solver': 'sag'}\n",
            "0.000000 (0.000000) with: {'C': 40, 'penalty': 'elasticnet', 'solver': 'saga'}\n",
            "0.000000 (0.000000) with: {'C': 50, 'penalty': 'l1', 'solver': 'newton-cg'}\n",
            "0.000000 (0.000000) with: {'C': 50, 'penalty': 'l1', 'solver': 'lbfgs'}\n",
            "0.838617 (0.002339) with: {'C': 50, 'penalty': 'l1', 'solver': 'liblinear'}\n",
            "0.000000 (0.000000) with: {'C': 50, 'penalty': 'l1', 'solver': 'sag'}\n",
            "0.838617 (0.002423) with: {'C': 50, 'penalty': 'l1', 'solver': 'saga'}\n",
            "0.838674 (0.002362) with: {'C': 50, 'penalty': 'l2', 'solver': 'newton-cg'}\n",
            "0.838385 (0.002254) with: {'C': 50, 'penalty': 'l2', 'solver': 'lbfgs'}\n",
            "0.838559 (0.002335) with: {'C': 50, 'penalty': 'l2', 'solver': 'liblinear'}\n",
            "0.838674 (0.002362) with: {'C': 50, 'penalty': 'l2', 'solver': 'sag'}\n",
            "0.838674 (0.002446) with: {'C': 50, 'penalty': 'l2', 'solver': 'saga'}\n",
            "0.838617 (0.002442) with: {'C': 50, 'penalty': 'none', 'solver': 'newton-cg'}\n",
            "0.838501 (0.002329) with: {'C': 50, 'penalty': 'none', 'solver': 'lbfgs'}\n",
            "0.000000 (0.000000) with: {'C': 50, 'penalty': 'none', 'solver': 'liblinear'}\n",
            "0.838559 (0.002348) with: {'C': 50, 'penalty': 'none', 'solver': 'sag'}\n",
            "0.838617 (0.002423) with: {'C': 50, 'penalty': 'none', 'solver': 'saga'}\n",
            "0.000000 (0.000000) with: {'C': 50, 'penalty': 'elasticnet', 'solver': 'newton-cg'}\n",
            "0.000000 (0.000000) with: {'C': 50, 'penalty': 'elasticnet', 'solver': 'lbfgs'}\n",
            "0.000000 (0.000000) with: {'C': 50, 'penalty': 'elasticnet', 'solver': 'liblinear'}\n",
            "0.000000 (0.000000) with: {'C': 50, 'penalty': 'elasticnet', 'solver': 'sag'}\n",
            "0.000000 (0.000000) with: {'C': 50, 'penalty': 'elasticnet', 'solver': 'saga'}\n",
            "0.000000 (0.000000) with: {'C': 100, 'penalty': 'l1', 'solver': 'newton-cg'}\n",
            "0.000000 (0.000000) with: {'C': 100, 'penalty': 'l1', 'solver': 'lbfgs'}\n",
            "0.838559 (0.002247) with: {'C': 100, 'penalty': 'l1', 'solver': 'liblinear'}\n",
            "0.000000 (0.000000) with: {'C': 100, 'penalty': 'l1', 'solver': 'sag'}\n",
            "0.838617 (0.002423) with: {'C': 100, 'penalty': 'l1', 'solver': 'saga'}\n",
            "0.838559 (0.002348) with: {'C': 100, 'penalty': 'l2', 'solver': 'newton-cg'}\n",
            "0.838559 (0.002641) with: {'C': 100, 'penalty': 'l2', 'solver': 'lbfgs'}\n",
            "0.838617 (0.002423) with: {'C': 100, 'penalty': 'l2', 'solver': 'liblinear'}\n",
            "0.838559 (0.002348) with: {'C': 100, 'penalty': 'l2', 'solver': 'sag'}\n",
            "0.838617 (0.002423) with: {'C': 100, 'penalty': 'l2', 'solver': 'saga'}\n",
            "0.838617 (0.002442) with: {'C': 100, 'penalty': 'none', 'solver': 'newton-cg'}\n",
            "0.838501 (0.002329) with: {'C': 100, 'penalty': 'none', 'solver': 'lbfgs'}\n",
            "0.000000 (0.000000) with: {'C': 100, 'penalty': 'none', 'solver': 'liblinear'}\n",
            "0.838617 (0.002442) with: {'C': 100, 'penalty': 'none', 'solver': 'sag'}\n",
            "0.838617 (0.002423) with: {'C': 100, 'penalty': 'none', 'solver': 'saga'}\n",
            "0.000000 (0.000000) with: {'C': 100, 'penalty': 'elasticnet', 'solver': 'newton-cg'}\n",
            "0.000000 (0.000000) with: {'C': 100, 'penalty': 'elasticnet', 'solver': 'lbfgs'}\n",
            "0.000000 (0.000000) with: {'C': 100, 'penalty': 'elasticnet', 'solver': 'liblinear'}\n",
            "0.000000 (0.000000) with: {'C': 100, 'penalty': 'elasticnet', 'solver': 'sag'}\n",
            "0.000000 (0.000000) with: {'C': 100, 'penalty': 'elasticnet', 'solver': 'saga'}\n"
          ]
        },
        {
          "output_type": "stream",
          "name": "stderr",
          "text": [
            "/usr/local/lib/python3.7/dist-packages/sklearn/linear_model/_sag.py:354: ConvergenceWarning: The max_iter was reached which means the coef_ did not converge\n",
            "  ConvergenceWarning,\n"
          ]
        }
      ]
    },
    {
      "cell_type": "code",
      "source": [
        "## With Logistic Regression\n",
        "\n",
        "x_train,x_test,y_train,y_test = train_test_split(X1,Y1,test_size=0.2)\n",
        "\n",
        "scaler = MinMaxScaler()\n",
        "x_train = scaler.fit_transform(x_train)\n",
        "x_test = scaler.transform(x_test)\n",
        "\n",
        "lr = LogisticRegression(C=10,penalty= 'l1',solver='saga')\n",
        "\n",
        "lr.fit(x_train,y_train)\n",
        "\n",
        "##predicting with train values\n",
        "y_pred_train = lr.predict(x_train)\n",
        "\n",
        "print('classification_report:\\n',classification_report(y_pred_train,y_train))\n",
        "print('confusion_matrix:\\n',confusion_matrix(y_pred_train,y_train))\n",
        "print('f1_score: ',f1_score(y_pred_train,y_train))\n",
        "\n",
        "\n",
        "##predicting with test values\n",
        "y_pred_test = lr.predict(x_test)\n",
        "\n",
        "print('classification_report:\\n',classification_report(y_pred_test,y_test))\n",
        "print('confusion_matrix:\\n',confusion_matrix(y_pred_test,y_test))\n",
        "print('f1_score: ',f1_score(y_pred_test,y_test))"
      ],
      "metadata": {
        "colab": {
          "base_uri": "https://localhost:8080/"
        },
        "id": "DxZtm6yKzpO5",
        "outputId": "e449d09f-b467-4f0c-f1c1-4c9b3f3868a2"
      },
      "execution_count": null,
      "outputs": [
        {
          "output_type": "stream",
          "name": "stdout",
          "text": [
            "classification_report:\n",
            "               precision    recall  f1-score   support\n",
            "\n",
            "         0.0       0.92      0.79      0.85      9961\n",
            "         1.0       0.76      0.90      0.83      7327\n",
            "\n",
            "    accuracy                           0.84     17288\n",
            "   macro avg       0.84      0.85      0.84     17288\n",
            "weighted avg       0.85      0.84      0.84     17288\n",
            "\n",
            "confusion_matrix:\n",
            " [[7908 2053]\n",
            " [ 724 6603]]\n",
            "f1_score:  0.8262528936995558\n",
            "classification_report:\n",
            "               precision    recall  f1-score   support\n",
            "\n",
            "         0.0       0.91      0.80      0.85      2469\n",
            "         1.0       0.77      0.89      0.83      1853\n",
            "\n",
            "    accuracy                           0.84      4322\n",
            "   macro avg       0.84      0.85      0.84      4322\n",
            "weighted avg       0.85      0.84      0.84      4322\n",
            "\n",
            "confusion_matrix:\n",
            " [[1973  496]\n",
            " [ 200 1653]]\n",
            "f1_score:  0.826086956521739\n"
          ]
        },
        {
          "output_type": "stream",
          "name": "stderr",
          "text": [
            "/usr/local/lib/python3.7/dist-packages/sklearn/linear_model/_sag.py:354: ConvergenceWarning: The max_iter was reached which means the coef_ did not converge\n",
            "  ConvergenceWarning,\n"
          ]
        }
      ]
    },
    {
      "cell_type": "markdown",
      "source": [
        "## Orginial Data"
      ],
      "metadata": {
        "id": "kpxoIgp3Sdqu"
      }
    },
    {
      "cell_type": "code",
      "source": [
        "data.gender.fillna('Unknown',inplace=True)"
      ],
      "metadata": {
        "id": "PrHsHgPM44Ul"
      },
      "execution_count": null,
      "outputs": []
    },
    {
      "cell_type": "code",
      "source": [
        "converted_list_1 = []\n",
        "for i in range(len(data[\"city\"])):\n",
        "  j = data[\"city\"][i].replace(\"city_\",\"\")\n",
        "  converted_list_1.append(j)\n",
        "  \n",
        "data['city'] = converted_list_1\n",
        "\n",
        "data.city = data.city.astype('int')"
      ],
      "metadata": {
        "id": "rl3FQOwIlrhS"
      },
      "execution_count": null,
      "outputs": []
    },
    {
      "cell_type": "code",
      "source": [
        "## Experience column\n",
        "data.experience.replace('>20',25,inplace=True)\n",
        "data.experience.replace('<1',0,inplace=True)\n",
        "data.experience.fillna(0,inplace=True)\n",
        "data.experience = data.experience.astype('int')\n",
        "\n",
        "\n",
        "\n",
        "## Last New Job Column\n",
        "data.last_new_job.replace('>4',5,inplace=True)\n",
        "data.last_new_job.replace('never',0,inplace=True)\n",
        "data.last_new_job.fillna(0,inplace=True)\n",
        "data.last_new_job = data.last_new_job.astype('int')\n",
        "\n",
        "\n",
        "## company_size\n",
        "data.company_size.replace('10/49',30,inplace=True)\n",
        "\n",
        "data.company_size.replace('10-49',30,inplace=True)\n",
        "data.company_size.replace('<10',30,inplace=True)\n",
        "data.company_size.replace('50-99',100,inplace=True)\n",
        "data.company_size.replace('100-500',100,inplace=True)\n",
        "data.company_size.replace('500-999',1000,inplace=True)\n",
        "data.company_size.replace('1000-4999',1000,inplace=True)\n",
        "data.company_size.replace('5000-9999',10000,inplace=True)\n",
        "data.company_size.replace('10000+',10000,inplace=True)\n",
        "data.company_size.fillna(0,inplace=True)\n",
        "\n",
        "#col = ['enrolled_university','education_level','major_discipline','company_size']\n",
        "#for i in col:\n",
        "#  data[i].fillna(data[i].mode()[0],inplace=True)\n",
        "\n",
        "data.fillna('Unknown',inplace=True)\n",
        "\n",
        "#data.drop(['enrollee_id'],axis=1,inplace=True)\n",
        "\n",
        "\n",
        "data.education_level.value_counts()\n",
        "cat = {\"Phd\":5, \"Masters\":4,\"Graduate\":3,\"High School\":2,\"Primary School\":1,\"Unknown\":0}\n",
        "data.education_level.replace(cat,inplace=True)\n",
        "data.education_level = data.education_level.astype('int')\n",
        "\n",
        "re = {\"Has relevent experience\":1,\"No relevent experience\":0}\n",
        "data.relevent_experience.replace(re,inplace=True)\n",
        "data.relevent_experience = data.relevent_experience.astype(\"int\")\n",
        "\n",
        "gen = {\"Male\":3,\"Female\":2,\"Other\":1,\"Unknown\":0}\n",
        "data.gender.replace(gen,inplace=True)\n",
        "data.gender = data.gender.astype(\"int\")\n",
        "\n",
        "en = {\"Full time course\":3,\"Part time course\":2,\"no_enrollment\":1,\"Unknown\":0}\n",
        "data.enrolled_university.replace(en,inplace=True)\n",
        "data.enrolled_university = data.enrolled_university.astype(\"int\")\n",
        "\n",
        "data.drop(['enrollee_id','city'],axis=1,inplace=True)"
      ],
      "metadata": {
        "id": "KZ18YQSaNWYk"
      },
      "execution_count": null,
      "outputs": []
    },
    {
      "cell_type": "code",
      "source": [
        "data = pd.get_dummies(data)"
      ],
      "metadata": {
        "id": "HbqzZqr-j5LY"
      },
      "execution_count": null,
      "outputs": []
    },
    {
      "cell_type": "code",
      "source": [
        "x_data = data.drop('target',axis=1)\n",
        "y_data = data['target']"
      ],
      "metadata": {
        "id": "yzG6dJ6xN5tD"
      },
      "execution_count": null,
      "outputs": []
    },
    {
      "cell_type": "code",
      "source": [
        "x_data.columns"
      ],
      "metadata": {
        "colab": {
          "base_uri": "https://localhost:8080/"
        },
        "id": "LIiXYsZG2kqr",
        "outputId": "74b8e110-f362-4ed0-fa51-c2030147261d"
      },
      "execution_count": null,
      "outputs": [
        {
          "output_type": "execute_result",
          "data": {
            "text/plain": [
              "Index(['city_development_index', 'gender', 'relevent_experience',\n",
              "       'enrolled_university', 'education_level', 'experience', 'company_size',\n",
              "       'last_new_job', 'training_hours', 'major_discipline_Arts',\n",
              "       'major_discipline_Business Degree', 'major_discipline_Humanities',\n",
              "       'major_discipline_No Major', 'major_discipline_Other',\n",
              "       'major_discipline_STEM', 'major_discipline_Unknown',\n",
              "       'company_type_Early Stage Startup', 'company_type_Funded Startup',\n",
              "       'company_type_NGO', 'company_type_Other', 'company_type_Public Sector',\n",
              "       'company_type_Pvt Ltd', 'company_type_Unknown'],\n",
              "      dtype='object')"
            ]
          },
          "metadata": {},
          "execution_count": 462
        }
      ]
    },
    {
      "cell_type": "markdown",
      "source": [
        "## Original Data submission "
      ],
      "metadata": {
        "id": "BsWgLbyZ_bPj"
      }
    },
    {
      "cell_type": "code",
      "source": [
        "y_test_pred = rf.predict(x_data)\n",
        "#y_t = sig(y_test_pred)\n",
        "print(classification_report(y_test_pred,y_data))\n",
        "f1_score(y_test_pred,y_data)"
      ],
      "metadata": {
        "colab": {
          "base_uri": "https://localhost:8080/"
        },
        "id": "m8CCyyOdslcs",
        "outputId": "96987b31-2e95-4a26-b39d-46f6f582d030"
      },
      "execution_count": null,
      "outputs": [
        {
          "output_type": "stream",
          "name": "stdout",
          "text": [
            "              precision    recall  f1-score   support\n",
            "\n",
            "         0.0       0.81      0.96      0.88     12185\n",
            "         1.0       0.89      0.61      0.73      6973\n",
            "\n",
            "    accuracy                           0.83     19158\n",
            "   macro avg       0.85      0.79      0.80     19158\n",
            "weighted avg       0.84      0.83      0.82     19158\n",
            "\n"
          ]
        },
        {
          "output_type": "execute_result",
          "data": {
            "text/plain": [
              "0.7266382978723404"
            ]
          },
          "metadata": {},
          "execution_count": 467
        }
      ]
    },
    {
      "cell_type": "markdown",
      "source": [
        "## Submission Data"
      ],
      "metadata": {
        "id": "Zr8jO9mOSgbk"
      }
    },
    {
      "cell_type": "code",
      "source": [
        "## Cleaning real_test1\n",
        "index = x_sub['index']"
      ],
      "metadata": {
        "id": "TqkrcMWzSY0L"
      },
      "execution_count": null,
      "outputs": []
    },
    {
      "cell_type": "code",
      "source": [
        "x_sub.gender.fillna('Unknown',inplace=True)\n",
        "#x_sub.gender.fillna(x_sub.gender.mode()[0],inplace=True)"
      ],
      "metadata": {
        "id": "y2YWRluA5x1j"
      },
      "execution_count": null,
      "outputs": []
    },
    {
      "cell_type": "code",
      "source": [
        "converted_list_1 = []\n",
        "for i in range(len(x_sub[\"city\"])):\n",
        "  j = x_sub[\"city\"][i].replace(\"city_\",\"\")\n",
        "  converted_list_1.append(j)\n",
        "  \n",
        "x_sub['city'] = converted_list_1\n",
        "\n",
        "x_sub.city = x_sub.city.astype('int')"
      ],
      "metadata": {
        "id": "np37ocUBmXxZ"
      },
      "execution_count": null,
      "outputs": []
    },
    {
      "cell_type": "code",
      "source": [
        "## Experience column\n",
        "x_sub.experience.replace('>20',25,inplace=True)\n",
        "x_sub.experience.replace('<1',0,inplace=True)\n",
        "x_sub.experience.fillna(0,inplace=True)\n",
        "#x_sub.experience.fillna(x_sub.experience.mode()[0],inplace=True)\n",
        "x_sub.experience = x_sub.experience.astype('int')\n",
        "\n",
        "\n",
        "\n",
        "## Last New Job Column\n",
        "x_sub.last_new_job.replace('>4',5,inplace=True)\n",
        "x_sub.last_new_job.replace('never',0,inplace=True)\n",
        "x_sub.last_new_job.fillna(0,inplace=True)\n",
        "#x_sub.last_new_job.fillna(x_sub.last_new_job.mode()[0],inplace=True)\n",
        "x_sub.last_new_job = x_sub.last_new_job.astype('int')\n",
        "\n",
        "\n",
        "## company_size\n",
        "x_sub.company_size.replace('10/49',30,inplace=True)\n",
        "\n",
        "x_sub.company_size.replace('10-49',30,inplace=True)\n",
        "x_sub.company_size.replace('<10',30,inplace=True)\n",
        "x_sub.company_size.replace('50-99',100,inplace=True)\n",
        "x_sub.company_size.replace('100-500',100,inplace=True)\n",
        "x_sub.company_size.replace('500-999',1000,inplace=True)\n",
        "x_sub.company_size.replace('1000-4999',1000,inplace=True)\n",
        "x_sub.company_size.replace('5000-9999',10000,inplace=True)\n",
        "x_sub.company_size.replace('10000+',10000,inplace=True)\n",
        "\n",
        "x_sub.company_size.fillna(0,inplace=True)\n",
        "#x_sub.company_size.fillna(x_sub.company_size.mode()[0],inplace=True)\n",
        "\n",
        "\n",
        "\n",
        "#cols = ['enrolled_university','education_level','major_discipline','company_size']\n",
        "\n",
        "#for i in cols:\n",
        "#  x_sub[i].fillna(x_sub[i].mode()[0],inplace=True)\n",
        "#x_sub.company_type.fillna(x_sub.company_type.mode()[0],inplace=True)\n",
        "x_sub.fillna('Unknown',inplace=True)\n",
        "\n",
        "x_sub.drop(['index','city'],axis=1,inplace=True)\n",
        "\n",
        "\n"
      ],
      "metadata": {
        "id": "qFxJl4rXSovi"
      },
      "execution_count": null,
      "outputs": []
    },
    {
      "cell_type": "code",
      "source": [
        "x_sub.education_level.value_counts()\n",
        "cat = {\"Phd\":5, \"Masters\":4,\"Graduate\":3,\"High School\":2,\"Primary School\":1,\"Unknown\":0}\n",
        "#cat = {\"Phd\":4, \"Masters\":3,\"Graduate\":2,\"High School\":1,\"Primary School\":0}\n",
        "x_sub.education_level.replace(cat,inplace=True)\n",
        "x_sub.education_level = x_sub.education_level.astype('int')\n",
        "\n",
        "re = {\"Has relevent experience\":1,\"No relevent experience\":0}\n",
        "x_sub.relevent_experience.replace(re,inplace=True)\n",
        "x_sub.relevent_experience = x_sub.relevent_experience.astype(\"int\")"
      ],
      "metadata": {
        "id": "QZ6X2rNwpMkg"
      },
      "execution_count": null,
      "outputs": []
    },
    {
      "cell_type": "code",
      "source": [
        "x_sub = pd.get_dummies(x_sub)"
      ],
      "metadata": {
        "id": "5lGi_tRAmrlE"
      },
      "execution_count": null,
      "outputs": []
    },
    {
      "cell_type": "code",
      "source": [
        "x_sub.shape"
      ],
      "metadata": {
        "colab": {
          "base_uri": "https://localhost:8080/"
        },
        "id": "BzzV9WVtpRy3",
        "outputId": "8e1c041e-7d5e-4e5b-ea45-ac744716b543"
      },
      "execution_count": null,
      "outputs": [
        {
          "output_type": "execute_result",
          "data": {
            "text/plain": [
              "(4790, 29)"
            ]
          },
          "metadata": {},
          "execution_count": 390
        }
      ]
    },
    {
      "cell_type": "code",
      "source": [
        "x_sub.columns"
      ],
      "metadata": {
        "colab": {
          "base_uri": "https://localhost:8080/"
        },
        "id": "s_mLkljiZoKw",
        "outputId": "9cc0ca9e-f6d0-49c9-9d9c-ed889b6d630d"
      },
      "execution_count": null,
      "outputs": [
        {
          "output_type": "execute_result",
          "data": {
            "text/plain": [
              "Index(['city_development_index', 'relevent_experience', 'education_level',\n",
              "       'experience', 'company_size', 'last_new_job', 'training_hours',\n",
              "       'gender_Female', 'gender_Male', 'gender_Other', 'gender_Unknown',\n",
              "       'enrolled_university_Full time course',\n",
              "       'enrolled_university_Part time course', 'enrolled_university_Unknown',\n",
              "       'enrolled_university_no_enrollment', 'major_discipline_Arts',\n",
              "       'major_discipline_Business Degree', 'major_discipline_Humanities',\n",
              "       'major_discipline_No Major', 'major_discipline_Other',\n",
              "       'major_discipline_STEM', 'major_discipline_Unknown',\n",
              "       'company_type_Early Stage Startup', 'company_type_Funded Startup',\n",
              "       'company_type_NGO', 'company_type_Other', 'company_type_Public Sector',\n",
              "       'company_type_Pvt Ltd', 'company_type_Unknown'],\n",
              "      dtype='object')"
            ]
          },
          "metadata": {},
          "execution_count": 391
        }
      ]
    },
    {
      "cell_type": "markdown",
      "source": [
        "## Predicting"
      ],
      "metadata": {
        "id": "Pbdp31g5bhX1"
      }
    },
    {
      "cell_type": "code",
      "source": [
        "y_sub_pred = rf.predict_proba(x_sub)"
      ],
      "metadata": {
        "id": "CoyiO9VTS-Ma"
      },
      "execution_count": null,
      "outputs": []
    },
    {
      "cell_type": "code",
      "source": [
        "submission = pd.DataFrame({'index':index,'target':y_sub_pred[:,1]})"
      ],
      "metadata": {
        "id": "1CNWNl13TFSM"
      },
      "execution_count": null,
      "outputs": []
    },
    {
      "cell_type": "code",
      "source": [
        "submission.target.value_counts()"
      ],
      "metadata": {
        "colab": {
          "base_uri": "https://localhost:8080/"
        },
        "id": "HiJK31Floiid",
        "outputId": "428449fc-a779-40a3-d934-be5894962d93"
      },
      "execution_count": null,
      "outputs": [
        {
          "output_type": "execute_result",
          "data": {
            "text/plain": [
              "0.180000    102\n",
              "0.220000     96\n",
              "0.250000     95\n",
              "0.230000     89\n",
              "0.170000     88\n",
              "           ... \n",
              "0.512500      1\n",
              "0.246667      1\n",
              "0.232000      1\n",
              "0.195000      1\n",
              "0.345000      1\n",
              "Name: target, Length: 176, dtype: int64"
            ]
          },
          "metadata": {},
          "execution_count": 394
        }
      ]
    },
    {
      "cell_type": "code",
      "source": [
        "submission.to_csv('/content/drive/MyDrive/Submission64.csv',index=None)"
      ],
      "metadata": {
        "id": "kHjCqpRuTdOv"
      },
      "execution_count": null,
      "outputs": []
    },
    {
      "cell_type": "code",
      "source": [
        "df13 = pd.read_csv('/content/drive/MyDrive/Submission59.csv')"
      ],
      "metadata": {
        "id": "3h4uhyJN19Ez"
      },
      "execution_count": null,
      "outputs": []
    },
    {
      "cell_type": "code",
      "source": [
        "df13.target.value_counts()"
      ],
      "metadata": {
        "colab": {
          "base_uri": "https://localhost:8080/"
        },
        "id": "on1DWoHbSuQ3",
        "outputId": "c06613e5-1998-4481-fe66-67af78c7b0fb"
      },
      "execution_count": null,
      "outputs": [
        {
          "output_type": "execute_result",
          "data": {
            "text/plain": [
              "0.270000    100\n",
              "0.230000     92\n",
              "0.180000     91\n",
              "0.160000     91\n",
              "0.190000     90\n",
              "           ... \n",
              "0.195000      1\n",
              "0.109000      1\n",
              "0.726667      1\n",
              "0.174500      1\n",
              "0.245000      1\n",
              "Name: target, Length: 157, dtype: int64"
            ]
          },
          "metadata": {},
          "execution_count": 133
        }
      ]
    },
    {
      "cell_type": "code",
      "source": [
        "df13.target"
      ],
      "metadata": {
        "colab": {
          "base_uri": "https://localhost:8080/"
        },
        "id": "R8ksWp0UQGoO",
        "outputId": "718cc37e-aaa4-499c-a320-7a22b6036608"
      },
      "execution_count": null,
      "outputs": [
        {
          "output_type": "execute_result",
          "data": {
            "text/plain": [
              "0       0.040\n",
              "1       0.150\n",
              "2       0.610\n",
              "3       0.080\n",
              "4       0.110\n",
              "        ...  \n",
              "4785    0.690\n",
              "4786    0.245\n",
              "4787    0.600\n",
              "4788    0.780\n",
              "4789    0.200\n",
              "Name: target, Length: 4790, dtype: float64"
            ]
          },
          "metadata": {},
          "execution_count": 136
        }
      ]
    },
    {
      "cell_type": "code",
      "source": [
        ""
      ],
      "metadata": {
        "id": "IT0Qs6kIQmE5"
      },
      "execution_count": null,
      "outputs": []
    }
  ]
}